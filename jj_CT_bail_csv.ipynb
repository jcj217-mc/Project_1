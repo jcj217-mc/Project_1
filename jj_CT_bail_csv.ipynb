{
  "nbformat": 4,
  "nbformat_minor": 0,
  "metadata": {
    "colab": {
      "name": "jj_CT_bail_csv.ipynb",
      "provenance": [],
      "collapsed_sections": [],
      "authorship_tag": "ABX9TyPk6RgqIexSjC/BXPeqtDq3",
      "include_colab_link": true
    },
    "kernelspec": {
      "display_name": "Python 3",
      "name": "python3"
    },
    "language_info": {
      "name": "python"
    }
  },
  "cells": [
    {
      "cell_type": "markdown",
      "metadata": {
        "id": "view-in-github",
        "colab_type": "text"
      },
      "source": [
        "<a href=\"https://colab.research.google.com/github/jcj217-mc/Project_1/blob/master/jj_CT_bail_csv.ipynb\" target=\"_parent\"><img src=\"https://colab.research.google.com/assets/colab-badge.svg\" alt=\"Open In Colab\"/></a>"
      ]
    },
    {
      "cell_type": "code",
      "metadata": {
        "id": "lJh6zQg4VvRb"
      },
      "source": [
        "# import packages\n",
        "import pandas as pd\n",
        "import numpy as np\n",
        "import os \n",
        "import json"
      ],
      "execution_count": 2,
      "outputs": []
    },
    {
      "cell_type": "code",
      "metadata": {
        "id": "dWajxBmeV60M"
      },
      "source": [
        "# .json file data imported as pandas data frame\n",
        "# df = pd.read_json('https://data.ct.gov/resource/b674-jy6w.json')"
      ],
      "execution_count": null,
      "outputs": []
    },
    {
      "cell_type": "code",
      "metadata": {
        "id": "e7EO6SQna5F4"
      },
      "source": [
        "# .csv file import\n",
        "# First, check  working directory\n",
        "# os.getcwd()\n",
        "# If need to change working directory\n",
        "# os.chdir(path)\n",
        "# df = pd.read_csv(\"Accused_Pre-Trial_Inmates_in_Correctional_Facilities.csv\", index_col=False)"
      ],
      "execution_count": null,
      "outputs": []
    },
    {
      "cell_type": "code",
      "metadata": {
        "id": "ONUl8HAooJJj"
      },
      "source": [
        "#Set CSV\n",
        "df_set = pd.read_csv(\"setdf.csv\", index_col=False)"
      ],
      "execution_count": 4,
      "outputs": []
    },
    {
      "cell_type": "markdown",
      "metadata": {
        "id": "Dyua3yZ8ZPyo"
      },
      "source": [
        "**Data Wrangling**"
      ]
    },
    {
      "cell_type": "code",
      "metadata": {
        "colab": {
          "base_uri": "https://localhost:8080/",
          "height": 411
        },
        "id": "el19b9VvWEB2",
        "outputId": "1b7b793f-cd4b-4bb1-aa72-7cee9f7c7e9a"
      },
      "source": [
        "# Evaluating initial data \n",
        "df_set.head()"
      ],
      "execution_count": 5,
      "outputs": [
        {
          "output_type": "execute_result",
          "data": {
            "text/html": [
              "<div>\n",
              "<style scoped>\n",
              "    .dataframe tbody tr th:only-of-type {\n",
              "        vertical-align: middle;\n",
              "    }\n",
              "\n",
              "    .dataframe tbody tr th {\n",
              "        vertical-align: top;\n",
              "    }\n",
              "\n",
              "    .dataframe thead th {\n",
              "        text-align: right;\n",
              "    }\n",
              "</style>\n",
              "<table border=\"1\" class=\"dataframe\">\n",
              "  <thead>\n",
              "    <tr style=\"text-align: right;\">\n",
              "      <th></th>\n",
              "      <th>DOWNLOAD DATE</th>\n",
              "      <th>IDENTIFIER</th>\n",
              "      <th>LATEST ADMISSION DATE</th>\n",
              "      <th>RACE</th>\n",
              "      <th>GENDER</th>\n",
              "      <th>AGE</th>\n",
              "      <th>BOND AMOUNT</th>\n",
              "      <th>OFFENSE</th>\n",
              "      <th>FACILITY</th>\n",
              "      <th>DETAINER</th>\n",
              "    </tr>\n",
              "  </thead>\n",
              "  <tbody>\n",
              "    <tr>\n",
              "      <th>0</th>\n",
              "      <td>5/15/20</td>\n",
              "      <td>ZZHCZBZZ</td>\n",
              "      <td>8/16/18</td>\n",
              "      <td>BLACK</td>\n",
              "      <td>M</td>\n",
              "      <td>27</td>\n",
              "      <td>150000</td>\n",
              "      <td>CRIMINAL POSS OF PISTOL/REVOLVER      DF</td>\n",
              "      <td>NEW HAVEN CC</td>\n",
              "      <td>NONE</td>\n",
              "    </tr>\n",
              "    <tr>\n",
              "      <th>1</th>\n",
              "      <td>5/15/20</td>\n",
              "      <td>ZZHZZRLR</td>\n",
              "      <td>3/28/19</td>\n",
              "      <td>HISPANIC</td>\n",
              "      <td>M</td>\n",
              "      <td>41</td>\n",
              "      <td>30100</td>\n",
              "      <td>VIOLATION OF PROBATION OR COND DISCHG</td>\n",
              "      <td>CORRIGAN CI</td>\n",
              "      <td>NONE</td>\n",
              "    </tr>\n",
              "    <tr>\n",
              "      <th>2</th>\n",
              "      <td>5/15/20</td>\n",
              "      <td>ZZSRJBEE</td>\n",
              "      <td>4/3/20</td>\n",
              "      <td>HISPANIC</td>\n",
              "      <td>M</td>\n",
              "      <td>21</td>\n",
              "      <td>150000</td>\n",
              "      <td>CRIMINAL ATTEMPT</td>\n",
              "      <td>CORRIGAN CI</td>\n",
              "      <td>NONE</td>\n",
              "    </tr>\n",
              "    <tr>\n",
              "      <th>3</th>\n",
              "      <td>5/15/20</td>\n",
              "      <td>ZZHBJLRZ</td>\n",
              "      <td>1/15/20</td>\n",
              "      <td>WHITE</td>\n",
              "      <td>M</td>\n",
              "      <td>36</td>\n",
              "      <td>50500</td>\n",
              "      <td>CRIM VIOL OF PROTECTIVE ORDER         DF</td>\n",
              "      <td>BRIDGEPORT CC</td>\n",
              "      <td>NONE</td>\n",
              "    </tr>\n",
              "    <tr>\n",
              "      <th>4</th>\n",
              "      <td>5/15/20</td>\n",
              "      <td>ZZSRRCHH</td>\n",
              "      <td>12/26/18</td>\n",
              "      <td>HISPANIC</td>\n",
              "      <td>M</td>\n",
              "      <td>29</td>\n",
              "      <td>100000</td>\n",
              "      <td>CRIMINAL ATTEMPT</td>\n",
              "      <td>HARTFORD CC</td>\n",
              "      <td>NONE</td>\n",
              "    </tr>\n",
              "  </tbody>\n",
              "</table>\n",
              "</div>"
            ],
            "text/plain": [
              "  DOWNLOAD DATE  ... DETAINER                                        \n",
              "0       5/15/20  ...                                             NONE\n",
              "1       5/15/20  ...                                             NONE\n",
              "2       5/15/20  ...                                             NONE\n",
              "3       5/15/20  ...                                             NONE\n",
              "4       5/15/20  ...                                             NONE\n",
              "\n",
              "[5 rows x 10 columns]"
            ]
          },
          "metadata": {
            "tags": []
          },
          "execution_count": 5
        }
      ]
    },
    {
      "cell_type": "code",
      "metadata": {
        "colab": {
          "base_uri": "https://localhost:8080/"
        },
        "id": "sRe_qwOj_4el",
        "outputId": "15f00f9b-3db2-4451-8d6a-9f1385fd20fd"
      },
      "source": [
        "df_set.info()"
      ],
      "execution_count": 6,
      "outputs": [
        {
          "output_type": "stream",
          "text": [
            "<class 'pandas.core.frame.DataFrame'>\n",
            "RangeIndex: 1048575 entries, 0 to 1048574\n",
            "Data columns (total 10 columns):\n",
            " #   Column                                            Non-Null Count    Dtype \n",
            "---  ------                                            --------------    ----- \n",
            " 0   DOWNLOAD DATE                                     1048575 non-null  object\n",
            " 1   IDENTIFIER                                        1048575 non-null  object\n",
            " 2   LATEST ADMISSION DATE                             1048575 non-null  object\n",
            " 3   RACE                                              1048575 non-null  object\n",
            " 4   GENDER                                            1048575 non-null  object\n",
            " 5   AGE                                               1048575 non-null  int64 \n",
            " 6   BOND AMOUNT                                       1048575 non-null  int64 \n",
            " 7   OFFENSE                                           1048575 non-null  object\n",
            " 8   FACILITY                                          1048575 non-null  object\n",
            " 9   DETAINER                                          1048575 non-null  object\n",
            "dtypes: int64(2), object(8)\n",
            "memory usage: 80.0+ MB\n"
          ],
          "name": "stdout"
        }
      ]
    },
    {
      "cell_type": "code",
      "metadata": {
        "colab": {
          "base_uri": "https://localhost:8080/",
          "height": 297
        },
        "id": "AG-Ha8_a_8pe",
        "outputId": "ad19cd11-e948-4c4d-ce3b-22236d6dff40"
      },
      "source": [
        "df_set.describe()"
      ],
      "execution_count": 7,
      "outputs": [
        {
          "output_type": "execute_result",
          "data": {
            "text/html": [
              "<div>\n",
              "<style scoped>\n",
              "    .dataframe tbody tr th:only-of-type {\n",
              "        vertical-align: middle;\n",
              "    }\n",
              "\n",
              "    .dataframe tbody tr th {\n",
              "        vertical-align: top;\n",
              "    }\n",
              "\n",
              "    .dataframe thead th {\n",
              "        text-align: right;\n",
              "    }\n",
              "</style>\n",
              "<table border=\"1\" class=\"dataframe\">\n",
              "  <thead>\n",
              "    <tr style=\"text-align: right;\">\n",
              "      <th></th>\n",
              "      <th>AGE</th>\n",
              "      <th>BOND AMOUNT</th>\n",
              "    </tr>\n",
              "  </thead>\n",
              "  <tbody>\n",
              "    <tr>\n",
              "      <th>count</th>\n",
              "      <td>1.048575e+06</td>\n",
              "      <td>1.048575e+06</td>\n",
              "    </tr>\n",
              "    <tr>\n",
              "      <th>mean</th>\n",
              "      <td>3.384820e+01</td>\n",
              "      <td>1.947709e+05</td>\n",
              "    </tr>\n",
              "    <tr>\n",
              "      <th>std</th>\n",
              "      <td>1.128990e+01</td>\n",
              "      <td>3.542701e+05</td>\n",
              "    </tr>\n",
              "    <tr>\n",
              "      <th>min</th>\n",
              "      <td>1.500000e+01</td>\n",
              "      <td>1.000000e+00</td>\n",
              "    </tr>\n",
              "    <tr>\n",
              "      <th>25%</th>\n",
              "      <td>2.500000e+01</td>\n",
              "      <td>2.510000e+04</td>\n",
              "    </tr>\n",
              "    <tr>\n",
              "      <th>50%</th>\n",
              "      <td>3.200000e+01</td>\n",
              "      <td>7.750000e+04</td>\n",
              "    </tr>\n",
              "    <tr>\n",
              "      <th>75%</th>\n",
              "      <td>4.100000e+01</td>\n",
              "      <td>2.000000e+05</td>\n",
              "    </tr>\n",
              "    <tr>\n",
              "      <th>max</th>\n",
              "      <td>8.100000e+01</td>\n",
              "      <td>9.200000e+06</td>\n",
              "    </tr>\n",
              "  </tbody>\n",
              "</table>\n",
              "</div>"
            ],
            "text/plain": [
              "                AGE   BOND AMOUNT\n",
              "count  1.048575e+06  1.048575e+06\n",
              "mean   3.384820e+01  1.947709e+05\n",
              "std    1.128990e+01  3.542701e+05\n",
              "min    1.500000e+01  1.000000e+00\n",
              "25%    2.500000e+01  2.510000e+04\n",
              "50%    3.200000e+01  7.750000e+04\n",
              "75%    4.100000e+01  2.000000e+05\n",
              "max    8.100000e+01  9.200000e+06"
            ]
          },
          "metadata": {
            "tags": []
          },
          "execution_count": 7
        }
      ]
    },
    {
      "cell_type": "code",
      "metadata": {
        "colab": {
          "base_uri": "https://localhost:8080/"
        },
        "id": "xLb5cUGVWqBt",
        "outputId": "29eeeafd-988b-4aa6-f87a-437dce893e08"
      },
      "source": [
        "#Checking Shape\n",
        "print(df_set.shape)"
      ],
      "execution_count": 9,
      "outputs": [
        {
          "output_type": "stream",
          "text": [
            "(1048575, 10)\n"
          ],
          "name": "stdout"
        }
      ]
    },
    {
      "cell_type": "code",
      "metadata": {
        "colab": {
          "base_uri": "https://localhost:8080/"
        },
        "id": "Ehd1am1TmA15",
        "outputId": "4a0e8694-af44-47b5-cfff-cc82af8b4189"
      },
      "source": [
        "#Check DataFrame type\n",
        "type(df_set)"
      ],
      "execution_count": 10,
      "outputs": [
        {
          "output_type": "execute_result",
          "data": {
            "text/plain": [
              "pandas.core.frame.DataFrame"
            ]
          },
          "metadata": {
            "tags": []
          },
          "execution_count": 10
        }
      ]
    },
    {
      "cell_type": "code",
      "metadata": {
        "id": "rOcCCYUmWYo9"
      },
      "source": [
        "# change column names\n",
        "# df_1 = df.rename(columns = {\"existing column name 1\": \"new column name 1\", \"existing column name 2\":\"new column name 2\"})\n",
        "# df_1.head()"
      ],
      "execution_count": 11,
      "outputs": []
    },
    {
      "cell_type": "code",
      "metadata": {
        "colab": {
          "base_uri": "https://localhost:8080/"
        },
        "id": "NvbZu7n3Wml8",
        "outputId": "d7dea7e2-ed5d-4b74-adc5-4acb9ec44c2a"
      },
      "source": [
        "# Checking data types for each column\n",
        "print(df_set.dtypes)"
      ],
      "execution_count": 12,
      "outputs": [
        {
          "output_type": "stream",
          "text": [
            "DOWNLOAD DATE                                       object\n",
            "IDENTIFIER                                          object\n",
            "LATEST ADMISSION DATE                               object\n",
            "RACE                                                object\n",
            "GENDER                                              object\n",
            "AGE                                                  int64\n",
            "BOND AMOUNT                                          int64\n",
            "OFFENSE                                             object\n",
            "FACILITY                                            object\n",
            "DETAINER                                            object\n",
            "dtype: object\n"
          ],
          "name": "stdout"
        }
      ]
    },
    {
      "cell_type": "markdown",
      "metadata": {
        "id": "YikyqaxLT0Ru"
      },
      "source": [
        "**Addressing NA/Null Values**"
      ]
    },
    {
      "cell_type": "code",
      "metadata": {
        "colab": {
          "base_uri": "https://localhost:8080/",
          "height": 473
        },
        "id": "rvWY21EOWxFj",
        "outputId": "c98fe6fe-7f60-47d0-c6d9-5c45f7e1589c"
      },
      "source": [
        "# Check null \n",
        "df_set.isnull()"
      ],
      "execution_count": 13,
      "outputs": [
        {
          "output_type": "execute_result",
          "data": {
            "text/html": [
              "<div>\n",
              "<style scoped>\n",
              "    .dataframe tbody tr th:only-of-type {\n",
              "        vertical-align: middle;\n",
              "    }\n",
              "\n",
              "    .dataframe tbody tr th {\n",
              "        vertical-align: top;\n",
              "    }\n",
              "\n",
              "    .dataframe thead th {\n",
              "        text-align: right;\n",
              "    }\n",
              "</style>\n",
              "<table border=\"1\" class=\"dataframe\">\n",
              "  <thead>\n",
              "    <tr style=\"text-align: right;\">\n",
              "      <th></th>\n",
              "      <th>DOWNLOAD DATE</th>\n",
              "      <th>IDENTIFIER</th>\n",
              "      <th>LATEST ADMISSION DATE</th>\n",
              "      <th>RACE</th>\n",
              "      <th>GENDER</th>\n",
              "      <th>AGE</th>\n",
              "      <th>BOND AMOUNT</th>\n",
              "      <th>OFFENSE</th>\n",
              "      <th>FACILITY</th>\n",
              "      <th>DETAINER</th>\n",
              "    </tr>\n",
              "  </thead>\n",
              "  <tbody>\n",
              "    <tr>\n",
              "      <th>0</th>\n",
              "      <td>False</td>\n",
              "      <td>False</td>\n",
              "      <td>False</td>\n",
              "      <td>False</td>\n",
              "      <td>False</td>\n",
              "      <td>False</td>\n",
              "      <td>False</td>\n",
              "      <td>False</td>\n",
              "      <td>False</td>\n",
              "      <td>False</td>\n",
              "    </tr>\n",
              "    <tr>\n",
              "      <th>1</th>\n",
              "      <td>False</td>\n",
              "      <td>False</td>\n",
              "      <td>False</td>\n",
              "      <td>False</td>\n",
              "      <td>False</td>\n",
              "      <td>False</td>\n",
              "      <td>False</td>\n",
              "      <td>False</td>\n",
              "      <td>False</td>\n",
              "      <td>False</td>\n",
              "    </tr>\n",
              "    <tr>\n",
              "      <th>2</th>\n",
              "      <td>False</td>\n",
              "      <td>False</td>\n",
              "      <td>False</td>\n",
              "      <td>False</td>\n",
              "      <td>False</td>\n",
              "      <td>False</td>\n",
              "      <td>False</td>\n",
              "      <td>False</td>\n",
              "      <td>False</td>\n",
              "      <td>False</td>\n",
              "    </tr>\n",
              "    <tr>\n",
              "      <th>3</th>\n",
              "      <td>False</td>\n",
              "      <td>False</td>\n",
              "      <td>False</td>\n",
              "      <td>False</td>\n",
              "      <td>False</td>\n",
              "      <td>False</td>\n",
              "      <td>False</td>\n",
              "      <td>False</td>\n",
              "      <td>False</td>\n",
              "      <td>False</td>\n",
              "    </tr>\n",
              "    <tr>\n",
              "      <th>4</th>\n",
              "      <td>False</td>\n",
              "      <td>False</td>\n",
              "      <td>False</td>\n",
              "      <td>False</td>\n",
              "      <td>False</td>\n",
              "      <td>False</td>\n",
              "      <td>False</td>\n",
              "      <td>False</td>\n",
              "      <td>False</td>\n",
              "      <td>False</td>\n",
              "    </tr>\n",
              "    <tr>\n",
              "      <th>...</th>\n",
              "      <td>...</td>\n",
              "      <td>...</td>\n",
              "      <td>...</td>\n",
              "      <td>...</td>\n",
              "      <td>...</td>\n",
              "      <td>...</td>\n",
              "      <td>...</td>\n",
              "      <td>...</td>\n",
              "      <td>...</td>\n",
              "      <td>...</td>\n",
              "    </tr>\n",
              "    <tr>\n",
              "      <th>1048570</th>\n",
              "      <td>False</td>\n",
              "      <td>False</td>\n",
              "      <td>False</td>\n",
              "      <td>False</td>\n",
              "      <td>False</td>\n",
              "      <td>False</td>\n",
              "      <td>False</td>\n",
              "      <td>False</td>\n",
              "      <td>False</td>\n",
              "      <td>False</td>\n",
              "    </tr>\n",
              "    <tr>\n",
              "      <th>1048571</th>\n",
              "      <td>False</td>\n",
              "      <td>False</td>\n",
              "      <td>False</td>\n",
              "      <td>False</td>\n",
              "      <td>False</td>\n",
              "      <td>False</td>\n",
              "      <td>False</td>\n",
              "      <td>False</td>\n",
              "      <td>False</td>\n",
              "      <td>False</td>\n",
              "    </tr>\n",
              "    <tr>\n",
              "      <th>1048572</th>\n",
              "      <td>False</td>\n",
              "      <td>False</td>\n",
              "      <td>False</td>\n",
              "      <td>False</td>\n",
              "      <td>False</td>\n",
              "      <td>False</td>\n",
              "      <td>False</td>\n",
              "      <td>False</td>\n",
              "      <td>False</td>\n",
              "      <td>False</td>\n",
              "    </tr>\n",
              "    <tr>\n",
              "      <th>1048573</th>\n",
              "      <td>False</td>\n",
              "      <td>False</td>\n",
              "      <td>False</td>\n",
              "      <td>False</td>\n",
              "      <td>False</td>\n",
              "      <td>False</td>\n",
              "      <td>False</td>\n",
              "      <td>False</td>\n",
              "      <td>False</td>\n",
              "      <td>False</td>\n",
              "    </tr>\n",
              "    <tr>\n",
              "      <th>1048574</th>\n",
              "      <td>False</td>\n",
              "      <td>False</td>\n",
              "      <td>False</td>\n",
              "      <td>False</td>\n",
              "      <td>False</td>\n",
              "      <td>False</td>\n",
              "      <td>False</td>\n",
              "      <td>False</td>\n",
              "      <td>False</td>\n",
              "      <td>False</td>\n",
              "    </tr>\n",
              "  </tbody>\n",
              "</table>\n",
              "<p>1048575 rows × 10 columns</p>\n",
              "</div>"
            ],
            "text/plain": [
              "         DOWNLOAD DATE  ...  DETAINER                                        \n",
              "0                False  ...                                             False\n",
              "1                False  ...                                             False\n",
              "2                False  ...                                             False\n",
              "3                False  ...                                             False\n",
              "4                False  ...                                             False\n",
              "...                ...  ...                                               ...\n",
              "1048570          False  ...                                             False\n",
              "1048571          False  ...                                             False\n",
              "1048572          False  ...                                             False\n",
              "1048573          False  ...                                             False\n",
              "1048574          False  ...                                             False\n",
              "\n",
              "[1048575 rows x 10 columns]"
            ]
          },
          "metadata": {
            "tags": []
          },
          "execution_count": 13
        }
      ]
    },
    {
      "cell_type": "code",
      "metadata": {
        "colab": {
          "base_uri": "https://localhost:8080/"
        },
        "id": "j6_syjhSWzmU",
        "outputId": "4006b3eb-9739-4eaa-edbd-e11b6b5a885c"
      },
      "source": [
        "# Null sum\n",
        "df_set.isnull().sum()"
      ],
      "execution_count": 14,
      "outputs": [
        {
          "output_type": "execute_result",
          "data": {
            "text/plain": [
              "DOWNLOAD DATE                                       0\n",
              "IDENTIFIER                                          0\n",
              "LATEST ADMISSION DATE                               0\n",
              "RACE                                                0\n",
              "GENDER                                              0\n",
              "AGE                                                 0\n",
              "BOND AMOUNT                                         0\n",
              "OFFENSE                                             0\n",
              "FACILITY                                            0\n",
              "DETAINER                                            0\n",
              "dtype: int64"
            ]
          },
          "metadata": {
            "tags": []
          },
          "execution_count": 14
        }
      ]
    },
    {
      "cell_type": "code",
      "metadata": {
        "id": "_cao-sT4UDyU"
      },
      "source": [
        "# Filling NAs\n",
        "# df_2.fillna(0)"
      ],
      "execution_count": 15,
      "outputs": []
    },
    {
      "cell_type": "markdown",
      "metadata": {
        "id": "-TkLfo7iT7KB"
      },
      "source": [
        "**Date/Time**"
      ]
    },
    {
      "cell_type": "code",
      "metadata": {
        "id": "0GJ09gvCXsOO"
      },
      "source": [
        "# Create separate columns for month day and year \n",
        "# df.Date = pd.to_datetime(df_2.Date)\n",
        "# df_2[['month', 'year']] = df_2.Date.apply(lambda x: pd.Series(x.strftime(\"%m, %Y\").split(\",\")))\n",
        "# df_2"
      ],
      "execution_count": 16,
      "outputs": []
    },
    {
      "cell_type": "code",
      "metadata": {
        "id": "UVubDJc3Xzds"
      },
      "source": [
        "# Changing Date to datetime\n",
        "# df.Date = pd.to_datetime(df_1.Date)"
      ],
      "execution_count": 17,
      "outputs": []
    },
    {
      "cell_type": "markdown",
      "metadata": {
        "id": "KK89RNDwUJP-"
      },
      "source": [
        "**Clean/Arrange Data**"
      ]
    },
    {
      "cell_type": "code",
      "metadata": {
        "id": "SFF8yvyGbfiy"
      },
      "source": [
        "# Drop rows or columns\n",
        "# df.dropna() # default is row-wise\n",
        "# df.dropna(axis = 1) #column-wise. "
      ],
      "execution_count": 18,
      "outputs": []
    },
    {
      "cell_type": "code",
      "metadata": {
        "id": "-Th13CCgYaeg"
      },
      "source": [
        "# Remove Column(s) by index number\n",
        "# df.drop(df_2.columns[[2]], axis=1, inplace=True,)\n",
        "# df.head(5)"
      ],
      "execution_count": 19,
      "outputs": []
    },
    {
      "cell_type": "code",
      "metadata": {
        "id": "HAHYtF0LXCST"
      },
      "source": [
        "# Group by\n",
        "# df_group = df_1.groupby('Column name')\n",
        "# df_group.head()"
      ],
      "execution_count": null,
      "outputs": []
    },
    {
      "cell_type": "code",
      "metadata": {
        "id": "xeCWv-TgXXtX"
      },
      "source": [
        "# Group by then sort by Date\n",
        "# df_3 = df_1.groupby('column name').apply(lambda x: x.sort_values('Date'))\n",
        "# df_3.head(30)"
      ],
      "execution_count": null,
      "outputs": []
    },
    {
      "cell_type": "code",
      "metadata": {
        "id": "Vwu3lFS8Xoeu"
      },
      "source": [
        "# Group by Year Sum\n",
        "# df_year = df_3.groupby(['year'], as_index=False).agg({'column name': sum})\n",
        "# df_year.head()"
      ],
      "execution_count": null,
      "outputs": []
    },
    {
      "cell_type": "code",
      "metadata": {
        "id": "W6cHlOE6Z8Hi"
      },
      "source": [
        "# Sum of avg. daily pop by month and year\n",
        "# df_monthyear = df_3.groupby(['year', 'month'], as_index=False).agg({'Column name': sum})\n",
        "# df_monthyear.head(20)"
      ],
      "execution_count": null,
      "outputs": []
    },
    {
      "cell_type": "code",
      "metadata": {
        "id": "9i0KRdbCaNv1"
      },
      "source": [
        "# Changing column type to integer\n",
        "# df_monthyear['column_name'].astype(int)"
      ],
      "execution_count": null,
      "outputs": []
    },
    {
      "cell_type": "code",
      "metadata": {
        "colab": {
          "base_uri": "https://localhost:8080/"
        },
        "id": "csk9qnUtUqst",
        "outputId": "b298ba0f-7ed3-40fe-9257-3c4ec7719235"
      },
      "source": [
        "# Examining Unique Entries\n",
        "df_set.nunique()"
      ],
      "execution_count": 20,
      "outputs": [
        {
          "output_type": "execute_result",
          "data": {
            "text/plain": [
              "DOWNLOAD DATE                                         321\n",
              "IDENTIFIER                                          18452\n",
              "LATEST ADMISSION DATE                                1851\n",
              "RACE                                                    5\n",
              "GENDER                                                  2\n",
              "AGE                                                    67\n",
              "BOND AMOUNT                                          2294\n",
              "OFFENSE                                               298\n",
              "FACILITY                                               42\n",
              "DETAINER                                               10\n",
              "dtype: int64"
            ]
          },
          "metadata": {
            "tags": []
          },
          "execution_count": 20
        }
      ]
    },
    {
      "cell_type": "code",
      "metadata": {
        "colab": {
          "base_uri": "https://localhost:8080/"
        },
        "id": "CAaCDJyIUvzi",
        "outputId": "408e2505-8d66-4fa6-e2fb-fee064116683"
      },
      "source": [
        "# Examining Offense Types Only\n",
        "df_set.OFFENSE.nunique()"
      ],
      "execution_count": 21,
      "outputs": [
        {
          "output_type": "execute_result",
          "data": {
            "text/plain": [
              "298"
            ]
          },
          "metadata": {
            "tags": []
          },
          "execution_count": 21
        }
      ]
    },
    {
      "cell_type": "code",
      "metadata": {
        "colab": {
          "base_uri": "https://localhost:8080/"
        },
        "id": "gs4x1lr-U-RT",
        "outputId": "22c87a5e-7b54-43eb-e343-9755d5d463a2"
      },
      "source": [
        "# Examining Offense Types\n",
        "offense_array = df_set.OFFENSE.unique()\n",
        "print(offense_array)"
      ],
      "execution_count": 22,
      "outputs": [
        {
          "output_type": "stream",
          "text": [
            "['CRIMINAL POSS OF PISTOL/REVOLVER      DF'\n",
            " 'VIOLATION OF PROBATION OR COND DISCHG' 'CRIMINAL ATTEMPT'\n",
            " 'CRIM VIOL OF PROTECTIVE ORDER         DF'\n",
            " 'CRIM VIOL ST CRIM RESTR ORDER         DF'\n",
            " 'ASSAULT 2ND, VICTIM 60 OR OVER        DF'\n",
            " 'INTERFERING WITH AN OFFICER           AM'\n",
            " 'LARCENY, SECOND DEGREE                CF'\n",
            " 'MURDER                                AF'\n",
            " 'ASSAULT, SECOND DEGREE                DF' 'ARREST WARRANT'\n",
            " 'YOUTHFUL OFFENDER' 'UNLAWFUL RESTRAINT, FIRST DEGREE      DF'\n",
            " 'LARCENY, FIRST DEGREE                 BF'\n",
            " 'CRIMINAL TRESPASS, THIRD DEGREE       CM'\n",
            " 'STALKING, 1ST DEGREE                  DF'\n",
            " 'BURGLARY, THIRD DEGREE                DF'\n",
            " 'SALE OF NARC/AMPHET BY NON-DEPENDENT   F'\n",
            " 'ASSAULT 2ND DEGREE WITH A FIREARM     DF'\n",
            " 'FORGERY, FIRST DEGREE                 CF' 'JUVENILE TRANSFER'\n",
            " 'CONSPIRACY' 'SEXUAL ASSAULT, FIRST DEGREE           F'\n",
            " 'ASSAULT ON POLICE OR FIRE OFFICER     CF'\n",
            " 'FORGERY, SECOND DEGREE                DF'\n",
            " 'ASSAULT 3RD DEGREE, VICTIM OVER 59    AM'\n",
            " 'STEALING A FIREARM                    DF'\n",
            " 'SEXUAL ASSAULT, SECOND DEGREE          F'\n",
            " 'CRIMINAL POSSESSION OF A PISTOL       DF'\n",
            " 'LARCENY, THIRD DEGREE                 DF'\n",
            " 'ROBBERY, FIRST DEGREE                 BF'\n",
            " 'SEXUAL ASSAULT 1ST DEGREE-AGGRVTD      F'\n",
            " 'HOME INVASION                         AF'\n",
            " 'BURGLARY, SECOND DEGREE               CF'\n",
            " 'SALE OF HEROIN, COC BY NON-DEPENDENT'\n",
            " 'INJURY OR RISK OF INJURY TO MINOR      F'\n",
            " 'ARSON, FIRST DEGREE                   AF'\n",
            " 'INCITING INJURY TO PERSONS OR PROPTY  CF' 'STRANGULATION 3RD DEGREE'\n",
            " 'FAILURE TO APPEAR, FIRST DEGREE       DF'\n",
            " 'CARRYING WEAPONS WITHOUT A PERMIT      F'\n",
            " 'THREATENING                           AM'\n",
            " 'RECKLESS ENDANGERMENT, FIRST DEGREE   AM'\n",
            " 'ASSAULT, FIRST DEGREE                 BF'\n",
            " 'ASSAULT, 1ST VICTIM 60 OR OVER        BF'\n",
            " 'ROBBERY, THIRD DEGREE                 DF'\n",
            " 'LARCENY, FOURTH DEGREE                AM'\n",
            " 'HARASSMENT, 2ND DEGREE                CM' 'SPECIAL PAROLE'\n",
            " 'VIOLATION OF CONDITIONS OF RELEASE'\n",
            " 'IDENTITY THEFT 2ND DEGREE             CF'\n",
            " 'STRANGULATION 2ND DEGREE              DF'\n",
            " 'VIOLATE COND OF RELEASE-2ND DEG       AM' 'CRUELTY TO PERSONS'\n",
            " 'ALTERING OR REMOVING IDENT NUMBER      F'\n",
            " 'CRIM VIOL OF PROTECTIVE ORDER         AM'\n",
            " 'POSSESSING CHILD PORNOGRAPH            F'\n",
            " 'OPERATING UNDER SUSPENDED LIC OR REG.  M' 'CREDIT CARD THEFT'\n",
            " 'BURGLARY, FIRST DEGREE                BF'\n",
            " 'MANSLAUGHTER, SECOND DEGREE           CF'\n",
            " 'EVADING RESPONSIBILITY                 M'\n",
            " 'ASSAULT, THIRD DEGREE                 AM'\n",
            " 'LARCENY, FIFTH DEGREE                 BM'\n",
            " 'SALE OF HALLUCIGEN/NARCOTIC SUBSTANCE  F' 'ARREST WITHOUT WARRANT'\n",
            " 'CRIMINAL IMPERSONATION                BM'\n",
            " 'ROBBERY, SECOND DEGREE                CF' 'POSSESSION OF NARCOTICS'\n",
            " 'SEX ASLT, SPOUSE/COHAB RELATIONSHIP   BF'\n",
            " 'TAMPERING WITH OR FABRICATING EVIDNC  DF'\n",
            " 'INJURY/RISK OF INJURY TO MINOR- SEXUAL C'\n",
            " 'FAILURE TO APPEAR, SECOND DEGREE      AM'\n",
            " 'FELONY MURDER                         AF'\n",
            " 'PROBATION AND CONDITIONAL DISCHARGE'\n",
            " 'ILL POSSESS CHILD PORN 2ND DEG         F'\n",
            " 'CRIM VIOL RES ORDER                   AM'\n",
            " 'STRANGULATION 1ST DEGREE              CF'\n",
            " 'BURGLARY, FIRST DEGREE: 53A101A(2)    BF'\n",
            " 'RECKLESS ENDANGERMENT, SECOND DEGREE  BM'\n",
            " 'SELLING WEAPONS TO ALIENS PROHIBITED   F' '(REPEALED) 53-048'\n",
            " 'ESCAPE FROM CUSTODY' 'KIDNAPPING, FIRST DEGREE              AF'\n",
            " 'PERMIT TO SELL OR CARRY PISTOL'\n",
            " 'CARRYING WEAPON IN A MOTOR VEHICLE     F'\n",
            " 'CRIMINAL MISCHIEF, SECOND DEGREE      AM' '53A021'\n",
            " 'BREACH OF PEACE                       BM'\n",
            " 'CONVEY UNAUTHZD ITEMS INTO INST       DF'\n",
            " 'MANSLAUGHTER, FIRST DEGREE, FIREARM   BF'\n",
            " 'AGGAVTD SEX ASSLT-VCTM < 13YR         AF'\n",
            " 'ROBBERY, FIRST DEGREE                BF'\n",
            " 'MANSLAUGHTER 2ND WITH MV (INTOX)      CF'\n",
            " 'CARRYING OR SALE OF DANGEROUS WEAPON'\n",
            " 'CRIMINAL MISCHIEF, FIRST DEGREE       DF'\n",
            " 'ASSAULT 2ND WITH MV WHILE INTOXICATED DF'\n",
            " 'DRUG PARAPHERNALIA IN DRUG FACTORY     F'\n",
            " 'ORGANIZED RETAIL THEFT                 F'\n",
            " 'OPERATE UNDER INFLU OF LIQ OR DRUGS'\n",
            " 'CAPITAL FELONY                         F'\n",
            " 'PROMOTING MINOR IN OBSCENE PERFORMNCE BF'\n",
            " 'CRIMINAL LIABILITY FOR ANOTHER PERSON'\n",
            " 'MANSLAUGHTER, FIRST DEGREE            BF'\n",
            " 'OBSCENITY                             BM'\n",
            " 'IDENTITY THEFT 3RD DEGREE             DF'\n",
            " 'CRIMINAL TRESPASS, SECOND DEGREE      BM'\n",
            " 'ASSAULT 2ND, VICTIM 60+, WITH FIREARM DF'\n",
            " 'ESCAPE, FIRST DEGREE                  CF'\n",
            " 'PRIMARY OFFENSE NOT DETERMINED'\n",
            " 'THREATENING 1ST DEGREE                DF'\n",
            " 'NEGLG STORAGE OF A FIREARM            DF'\n",
            " 'CRIMINAL TRESPASS, FIRST DEGREE       AM'\n",
            " 'USING MOTOR VEHICLE W/O PERMISSION'\n",
            " 'DISORDERLY CONDUCT                    CM'\n",
            " 'LARCENY, SIXTH DEGREE                 CM'\n",
            " 'UNLAWFUL RESTRAINT, SECOND DEGREE     AM'\n",
            " 'BRIBERY OF WITNESS                    DF'\n",
            " 'KIDNAPPING, 2ND DEGREE                BF'\n",
            " 'SEXUAL ASSAULT, THIRD DEGREE          DF' 'CARRY PIST/RVOLV W/O PERMIT'\n",
            " 'SEXUAL ASSAULT, FOURTH DEGREE         AM'\n",
            " 'INTIMIDATING A WITNESS                CF'\n",
            " 'CUSTODIAL INTERFERENCE, FIRST DEGREE  DF'\n",
            " 'STALKING, 2ND DEGREE                  AM'\n",
            " 'MANUF OR POSSESSION OF BURGLAR TOOLS  AM'\n",
            " 'HARASSMENT 1ST DEGREE                 DF'\n",
            " 'INTIMIDATE DUE TO BIAS 3RD DEG        AM'\n",
            " 'CRIM VIOL CIVIL PROTECTION ORDER      DF'\n",
            " 'EMPLOYING MINOR IN OBSCENE PERFORMNCE AF'\n",
            " 'IDENTITY THEFT 1ST DEGREE             BF' 'VOYEURISM'\n",
            " 'KIDNAPPING 2ND DEG W/ FIREARM         BF'\n",
            " 'USING MACHINE GUN IN CRIME             F' 'FALSELY REPORTING INCIDENT'\n",
            " 'OPERATE UNDER INFLU OF LIQ OR DRUGS    M'\n",
            " 'ILLEGAL MANUFACTUAL OR SALE OF DRUGS'\n",
            " 'THEFT FROM PERSON                      F'\n",
            " 'DISSEMINATING VOYEURISTIC MATERIAL    DF'\n",
            " 'CRIMINAL MISCHIEF, THIRD DEGREE       BM'\n",
            " 'MISCONDUCT WITH A MOTOR VEHICLE       DF'\n",
            " 'IMPORTING CHILD PORNOGRAPHY            F' 'SEARCHES AND SEIZURES'\n",
            " 'POSS OF WEAPON IN A CCI               BF'\n",
            " 'SALE OF CONTROLLED SUBSTANCE           F'\n",
            " 'ARSON, THIRD DEGREE                   CF'\n",
            " 'PROHIB ACTS RE: DRUG PARAPHERNALIA'\n",
            " 'KIDNAPPING 1ST DEG W/ FIREARM         AF'\n",
            " 'RECKLESS BURNING                      DF'\n",
            " 'TAMPERING WITH WITNESS                DF'\n",
            " 'ASSAULT, ON DOC EMPLOYEE              BF'\n",
            " 'LEAV CHILD UNSUPERV IN PUBL/MOT VEH    C'\n",
            " 'TRAFFICKING IN PERSONS                BF'\n",
            " 'ARSON, SECOND DEGREE                  BF'\n",
            " 'RECKLESS DRIVING                       M'\n",
            " 'TELEPHONE FRAUD, 1ST DEGREE           BF'\n",
            " 'PUBLIC INDECENCY                      BM'\n",
            " 'IL POS LRG CAP MAG OBT AF 4/13        DF'\n",
            " 'MANUFACTURE OF BOMBS                  BF'\n",
            " 'MISREP OF SUB AS CONTROLLED SUB       DF'\n",
            " 'INTIMIDATION BSD BIGOTRY/BIAS         DF'\n",
            " 'BURGLARY, SECOND DEGREE WITH FIREARM  CF' 'CRUELTY TO ANIMALS'\n",
            " 'VIO DEADLY WEAPON REGIST REQS         DF'\n",
            " 'CRIMINAL USE OF A FIREARM             DF'\n",
            " 'REG PERSON WHO COMM OFF AGAINST MINOR DF'\n",
            " 'POSSESS OF HALLUC OR 4+ OZ MARIJUANA   F'\n",
            " 'REG PERSON WHO COMM SEX VIOL OFF      DF'\n",
            " 'INJUNCTION AND RESTRAINING ORDER'\n",
            " 'FORGERY, THIRD DEGREE                 BM'\n",
            " 'CRIMINAL TROVER, 1ST DEGREE            F' 'FAILURE TO OBEY AN OFFICER'\n",
            " 'POSS OF ASSAULT WEAPON PROHIBITED'\n",
            " 'CRIMINAL MISCHIEF, FOURTH DEGREE      CM'\n",
            " 'FAILURE TO PAY OR PLEAD                M'\n",
            " 'USE OF MACHINE GUN IN A CRIME  DELETED F'\n",
            " 'FOLLOW TOO CLOSELY W/ INTENT TO HARASS M' 'PURGE CIVIL COMMITMENT'\n",
            " 'INTERFERING WITH AN EMERGENCY CALL    AM'\n",
            " 'ABUSE OF PERSONS-1ST DEGREE           CF'\n",
            " 'PROMOTING PROSTITUTION, FIRST DEGREE  BF'\n",
            " 'DRINKING WHILE OPERATING MOTOR VEHICL CM'\n",
            " 'FLR KEEP NARC IN ORG CONTAINER         F'\n",
            " 'ILLEGAL REFUSAL OF DNA TESTING'\n",
            " 'BURGLARY, THIRD DEGREE WITH FIREARM   DF'\n",
            " 'POSSESSION OF SHOTGUN OR SILENCER     DF'\n",
            " 'HINDER PROSECUTION, FIRST DEGREE      DF' 'PROHIBITED ACTIVITIES'\n",
            " 'DRUGS NEAR PROBIBITED PLACE' 'NEGLIGENT HOMICIDE W/ MOTOR VEHICLE   BM'\n",
            " 'HINDERING PROSECUTION 2ND DEG'\n",
            " 'PROSTITUTION                          AM'\n",
            " 'POSS WEAPON ON SCHOOL GROUNDS         DF'\n",
            " 'PROMOTING PROSTITUTION, SECOND DEGREE CF'\n",
            " 'ILL AFFIX FRAUDULENT                   F'\n",
            " 'UNLAWFUL REPRODUCTION OF CREDIT CARD  DF'\n",
            " 'DRIVING WHILE LICENSE SUSP FOR DWI'\n",
            " 'ILLEGAL POSSES OF SHOP LIFTING DEVICE AM'\n",
            " 'ILLEGAL POSSESSION OF EXPLOSIVES       F'\n",
            " 'RECEIVING STOLEN PROPERTY, LARCENY     M'\n",
            " 'AFFIRMATIVE DEFENSES TO CIMINAL TRESPASS'\n",
            " 'RAPE, SECOND DEGREE                   CF'\n",
            " 'ILL POSSESS CHILD PORN 3RD DEG        DF'\n",
            " 'CRIMINALLY NEGLIGENT HOMICIDE         AM'\n",
            " 'REGULATION OF RESTRICTED SUBSTANCES' 'APPLICATION TO PURCHASE A FIREARM'\n",
            " 'FOLLOWING TOO CLOSELY' 'PROHIB ACTS RE: DRUG PARA, SCHOOL'\n",
            " 'ILLEGAL USE OF CREDIT CARD' 'ILL CARRY FIREARM-UI DRUGS/ALC'\n",
            " 'PRACTICE OF LAW BY NON-ATTORNEYS       M'\n",
            " 'MISAPPLICATION OF PROPERTY            AM'\n",
            " 'CRIMINAL CONTEMPT                      M'\n",
            " 'HINDERING PROSECUTION 3RD DEG         DF'\n",
            " 'EVADING RESPONSIBILITY, OTHER THAN MV  M'\n",
            " 'OPERATING MV W/O INSURANCE            CM' 'TEMPORARY SURRENDER'\n",
            " 'CRIM DAMAGE PROPERTY 1ST DEG          DF'\n",
            " 'STALKING, 3RD DEGREE                  BM'\n",
            " 'IMPERSONATION OF POLICE OFFICER       DF' 'INTERSTATE PAROLE COMPACT'\n",
            " 'SALE, CARRY & BRAND OF FACSIMILE'\n",
            " 'POSSESS OF LT 4 OZ MJ OR CONTROLD SUB'\n",
            " 'PERMITTING PROSTITUTION               AM' 'ISSUING A BAD CHECK'\n",
            " 'FAILURE TO PAY WAGES' 'CREATING A PUBLIC DISTURBANCE' 'SIMPLE TRESPASS'\n",
            " 'DIVERT FR STATE BENE LBR EMPLOYEES    AM'\n",
            " 'INJURY TO BAGGAGE ON PUBLIC CONVEYANCE M'\n",
            " 'TAMPERING W/AIRPORT OR AIRWAYS'\n",
            " 'PROMOTING PROSTITUTION, THIRD DEGREE  DF'\n",
            " 'INJURY TO FENCES, GATES, OTHER PROP    M'\n",
            " 'ILLEGAL GAIN FROM CREDIT CARD         AM'\n",
            " 'NOTICES IN SALES AGRREMENT           UM'\n",
            " 'FALSELY REPORTING AN INCIDENT 2ND     AM'\n",
            " 'THEFT OF POULTRY                       M' 'FAILURE TO OBEY STOP SIGN'\n",
            " '(REPEALED) 53-173' 'IL TRAFFIC IN PERSONAL ID INFO        DF'\n",
            " 'SPEEDING                               M'\n",
            " 'DRIVING IMPROPERLY ON MULTI-LANE HWY'\n",
            " 'ABUSE OF PERSONS-2ND DEGREE           DF' 'OBTAINING DRUGS ILLEGALLY'\n",
            " 'COERCION' 'COMMIT SEXUAL OFF IN ANOTHER JURIS    DF'\n",
            " 'ACT OF TERRORISM-ENHANCE SENT'\n",
            " 'ALLOWING PERSON UNDER 16 TO OPERATE MV M'\n",
            " 'FALSE STATEMENT, 2ND DEGREE           AM'\n",
            " 'INTIMIDATION BASED ON BIGOTRY/BIAS    DF' 'FORGERY RELATED'\n",
            " 'HINDER PROSECUTION DEFINED             F'\n",
            " 'ILL OP MV WO IGNITION DEVICE          CM'\n",
            " 'UNFAIR OR DECEPTIVE PRAC OR ACT'\n",
            " 'CRIMINAL MISREPRESENTATION            CF' 'STARTING OR BACKING VEHICLE'\n",
            " 'IMPROPER USE OF MARKER, LICENSE, REG   M' 'EXTRADITION'\n",
            " 'CRIM DAMAGE PROPERTY 2ND DEG          AM'\n",
            " 'PATRONIZING A PROSTITUTE              AM'\n",
            " 'ENCOURAGING THE COMMISSION OF ABORTION M'\n",
            " 'COUNTERFEITING MARKER PLATES           M'\n",
            " 'USE OF HIGHWAY BY PEDESTRIAN           M'\n",
            " 'SHOTGUNS AND RIFLES IN VEHICLE         M'\n",
            " 'FORGERY OF SYMBOLS                    AM'\n",
            " 'MONEY LAUNDERING FOURTH DEGREE        AM'\n",
            " 'SOLICITING RIDES FROM MOTOR VEHICLES   M'\n",
            " 'IDENTITY THEFT DEFINED                DF'\n",
            " 'FAILURE TO CARRY MIN INSURANCE         M'\n",
            " 'FAILURE TO OBEY TRAFFIC SIGNALS' 'OPERATING MV W/O A LICENSE'\n",
            " 'INTIMIDATION BSD BIGOTRY/BIAS, 1ST    CF' 'CHEATING AT GAMBLING'\n",
            " 'FALSE RPT INCIDNT CONCER INJ OR DEATH DF'\n",
            " 'FALSE RPT INCIDNT RESULT INJ OR DEATH DF'\n",
            " 'PART OR CONS FOR EXPORT MEANS         BF'\n",
            " 'DRIVING INPROPERLY ON A ONE WAY STREET I'\n",
            " 'CRIMINAL TROVER, 2ND DEGREE           AM'\n",
            " 'INSURANCE FRAUD                       DF'\n",
            " 'PROHIB ACTS RE: CONTROLLED SUBSTANCES'\n",
            " 'FAILURE TO DRIVE ON RIGHT HAND ROADWAY'\n",
            " 'UNLAWFUL DISCHARGE OF FIREARMS         M'\n",
            " 'EXPIRATION AND RENEWAL OF REGISTRATION M'\n",
            " 'LITTERING OR DUMPING PROHIBITED' 'ROBBERY BY CARJACKING'\n",
            " 'FALSE STATEMENT TO PROCURE CREDT CARD AM'\n",
            " 'FALSE ENTRY BY OFFICER OR PUB AGENT   AM' 'FUGITIVE FROM JUSTICE'\n",
            " 'EAVESDROPPING                         DF'\n",
            " 'TRAVELING UNREASONABLY FAST            M'\n",
            " 'DRIVING IMPROPERLY IN RIGHT HAND LANE' '53A223C'\n",
            " 'FAILURE TO CARRY DRIVERS LICENSE       M'\n",
            " 'TOWN ORDINANCE $90 OR LESS (CI)' 'PENALTY FAIL TO SUBMIT FINGERPRINTS'\n",
            " 'THEFT OF NUMBER PLATE OR INSER         M' 'CRIMINAL SIMULATION'\n",
            " 'LARCENY RELATED']\n"
          ],
          "name": "stdout"
        }
      ]
    },
    {
      "cell_type": "code",
      "metadata": {
        "colab": {
          "base_uri": "https://localhost:8080/"
        },
        "id": "-DSvRSmdVjm4",
        "outputId": "51bc289e-9fe7-4cb0-a93d-686a67d7fe47"
      },
      "source": [
        "# Convert Array into DataFrame\n",
        "offense_df = pd.DataFrame(offense_array, columns=['Offense_Type'])\n",
        "print(offense_df)"
      ],
      "execution_count": 23,
      "outputs": [
        {
          "output_type": "stream",
          "text": [
            "                                 Offense_Type\n",
            "0    CRIMINAL POSS OF PISTOL/REVOLVER      DF\n",
            "1       VIOLATION OF PROBATION OR COND DISCHG\n",
            "2                            CRIMINAL ATTEMPT\n",
            "3    CRIM VIOL OF PROTECTIVE ORDER         DF\n",
            "4    CRIM VIOL ST CRIM RESTR ORDER         DF\n",
            "..                                        ...\n",
            "293           TOWN ORDINANCE $90 OR LESS (CI)\n",
            "294       PENALTY FAIL TO SUBMIT FINGERPRINTS\n",
            "295  THEFT OF NUMBER PLATE OR INSER         M\n",
            "296                       CRIMINAL SIMULATION\n",
            "297                           LARCENY RELATED\n",
            "\n",
            "[298 rows x 1 columns]\n"
          ],
          "name": "stdout"
        }
      ]
    },
    {
      "cell_type": "code",
      "metadata": {
        "colab": {
          "base_uri": "https://localhost:8080/",
          "height": 204
        },
        "id": "sI47Nu6ovTd-",
        "outputId": "88f2e498-c298-4802-cd7e-91b23276eb66"
      },
      "source": [
        "# Group by offense type, race, age, and bail amount\n",
        "df_3 = df_set.groupby(['OFFENSE'], as_index=False).agg({'BOND AMOUNT': sum})\n",
        "df_3.head()"
      ],
      "execution_count": 24,
      "outputs": [
        {
          "output_type": "execute_result",
          "data": {
            "text/html": [
              "<div>\n",
              "<style scoped>\n",
              "    .dataframe tbody tr th:only-of-type {\n",
              "        vertical-align: middle;\n",
              "    }\n",
              "\n",
              "    .dataframe tbody tr th {\n",
              "        vertical-align: top;\n",
              "    }\n",
              "\n",
              "    .dataframe thead th {\n",
              "        text-align: right;\n",
              "    }\n",
              "</style>\n",
              "<table border=\"1\" class=\"dataframe\">\n",
              "  <thead>\n",
              "    <tr style=\"text-align: right;\">\n",
              "      <th></th>\n",
              "      <th>OFFENSE</th>\n",
              "      <th>BOND AMOUNT</th>\n",
              "    </tr>\n",
              "  </thead>\n",
              "  <tbody>\n",
              "    <tr>\n",
              "      <th>0</th>\n",
              "      <td>(REPEALED) 53-048</td>\n",
              "      <td>500000</td>\n",
              "    </tr>\n",
              "    <tr>\n",
              "      <th>1</th>\n",
              "      <td>(REPEALED) 53-173</td>\n",
              "      <td>20000</td>\n",
              "    </tr>\n",
              "    <tr>\n",
              "      <th>2</th>\n",
              "      <td>53A021</td>\n",
              "      <td>95549900</td>\n",
              "    </tr>\n",
              "    <tr>\n",
              "      <th>3</th>\n",
              "      <td>53A223C</td>\n",
              "      <td>390900</td>\n",
              "    </tr>\n",
              "    <tr>\n",
              "      <th>4</th>\n",
              "      <td>ABUSE OF PERSONS-1ST DEGREE           CF</td>\n",
              "      <td>1100000</td>\n",
              "    </tr>\n",
              "  </tbody>\n",
              "</table>\n",
              "</div>"
            ],
            "text/plain": [
              "                                    OFFENSE  BOND AMOUNT\n",
              "0                         (REPEALED) 53-048       500000\n",
              "1                         (REPEALED) 53-173        20000\n",
              "2                                    53A021     95549900\n",
              "3                                   53A223C       390900\n",
              "4  ABUSE OF PERSONS-1ST DEGREE           CF      1100000"
            ]
          },
          "metadata": {
            "tags": []
          },
          "execution_count": 24
        }
      ]
    },
    {
      "cell_type": "code",
      "metadata": {
        "colab": {
          "base_uri": "https://localhost:8080/",
          "height": 204
        },
        "id": "Wjw8F91_1I8P",
        "outputId": "62a9342d-ed91-46a7-9cf5-a55f4a48cf3b"
      },
      "source": [
        "df_3['Offense_Total'] = df_set['OFFENSE'].value_counts()\n",
        "df_3.head()"
      ],
      "execution_count": 25,
      "outputs": [
        {
          "output_type": "execute_result",
          "data": {
            "text/html": [
              "<div>\n",
              "<style scoped>\n",
              "    .dataframe tbody tr th:only-of-type {\n",
              "        vertical-align: middle;\n",
              "    }\n",
              "\n",
              "    .dataframe tbody tr th {\n",
              "        vertical-align: top;\n",
              "    }\n",
              "\n",
              "    .dataframe thead th {\n",
              "        text-align: right;\n",
              "    }\n",
              "</style>\n",
              "<table border=\"1\" class=\"dataframe\">\n",
              "  <thead>\n",
              "    <tr style=\"text-align: right;\">\n",
              "      <th></th>\n",
              "      <th>OFFENSE</th>\n",
              "      <th>BOND AMOUNT</th>\n",
              "      <th>Offense_Total</th>\n",
              "    </tr>\n",
              "  </thead>\n",
              "  <tbody>\n",
              "    <tr>\n",
              "      <th>0</th>\n",
              "      <td>(REPEALED) 53-048</td>\n",
              "      <td>500000</td>\n",
              "      <td>NaN</td>\n",
              "    </tr>\n",
              "    <tr>\n",
              "      <th>1</th>\n",
              "      <td>(REPEALED) 53-173</td>\n",
              "      <td>20000</td>\n",
              "      <td>NaN</td>\n",
              "    </tr>\n",
              "    <tr>\n",
              "      <th>2</th>\n",
              "      <td>53A021</td>\n",
              "      <td>95549900</td>\n",
              "      <td>NaN</td>\n",
              "    </tr>\n",
              "    <tr>\n",
              "      <th>3</th>\n",
              "      <td>53A223C</td>\n",
              "      <td>390900</td>\n",
              "      <td>NaN</td>\n",
              "    </tr>\n",
              "    <tr>\n",
              "      <th>4</th>\n",
              "      <td>ABUSE OF PERSONS-1ST DEGREE           CF</td>\n",
              "      <td>1100000</td>\n",
              "      <td>NaN</td>\n",
              "    </tr>\n",
              "  </tbody>\n",
              "</table>\n",
              "</div>"
            ],
            "text/plain": [
              "                                    OFFENSE  BOND AMOUNT  Offense_Total\n",
              "0                         (REPEALED) 53-048       500000            NaN\n",
              "1                         (REPEALED) 53-173        20000            NaN\n",
              "2                                    53A021     95549900            NaN\n",
              "3                                   53A223C       390900            NaN\n",
              "4  ABUSE OF PERSONS-1ST DEGREE           CF      1100000            NaN"
            ]
          },
          "metadata": {
            "tags": []
          },
          "execution_count": 25
        }
      ]
    },
    {
      "cell_type": "markdown",
      "metadata": {
        "id": "oJjT8tLRc9i9"
      },
      "source": [
        "# You can use the python csv module.\n",
        "\n",
        "\n",
        "import csv\n",
        "import random\n",
        "\n",
        "offense_df = pd.DataFrame(offense_array, columns=['Offense_Type'])\n",
        "print(offense_df)\n",
        "\n",
        "with open('data.csv', 'w') as f:\n",
        "    writer = csv.writer(f)\n",
        "    writer.writerow(offense_df)"
      ]
    },
    {
      "cell_type": "code",
      "metadata": {
        "id": "vJY_LJbKe9_0"
      },
      "source": [
        "# Successfully creating excel sheet with cell output\n",
        "# offense_df.to_excel(\"./offensedf2.xlsx\")"
      ],
      "execution_count": null,
      "outputs": []
    },
    {
      "cell_type": "code",
      "metadata": {
        "id": "ui6KMrvDmHW8"
      },
      "source": [
        "# Took exported excel sheet and coded each type of offense as one of following:\n",
        "# 1. Person\n",
        "# 2. Property\n",
        "# 3. Probation\n",
        "# 4. Order (Violation of Order by Court, Police, or Municipality)\n",
        "# 5. Drugs\n",
        "# 6. Weapon\n",
        "# 7. Juvenile\n",
        "# 8. Attempt"
      ],
      "execution_count": null,
      "outputs": []
    },
    {
      "cell_type": "code",
      "metadata": {
        "colab": {
          "base_uri": "https://localhost:8080/",
          "height": 204
        },
        "id": "nlQosSFwmpmr",
        "outputId": "e903c9e3-352b-40a7-af2f-537bc75a294f"
      },
      "source": [
        "# load newly coded .csv \n",
        "df_2 = pd.read_csv(\"offensedf2.csv\", index_col=False)\n",
        "df_2.head()"
      ],
      "execution_count": 26,
      "outputs": [
        {
          "output_type": "execute_result",
          "data": {
            "text/html": [
              "<div>\n",
              "<style scoped>\n",
              "    .dataframe tbody tr th:only-of-type {\n",
              "        vertical-align: middle;\n",
              "    }\n",
              "\n",
              "    .dataframe tbody tr th {\n",
              "        vertical-align: top;\n",
              "    }\n",
              "\n",
              "    .dataframe thead th {\n",
              "        text-align: right;\n",
              "    }\n",
              "</style>\n",
              "<table border=\"1\" class=\"dataframe\">\n",
              "  <thead>\n",
              "    <tr style=\"text-align: right;\">\n",
              "      <th></th>\n",
              "      <th>Offense_Type</th>\n",
              "      <th>Category</th>\n",
              "    </tr>\n",
              "  </thead>\n",
              "  <tbody>\n",
              "    <tr>\n",
              "      <th>0</th>\n",
              "      <td>CRIMINAL POSS OF PISTOL/REVOLVER      DF</td>\n",
              "      <td>Weapons</td>\n",
              "    </tr>\n",
              "    <tr>\n",
              "      <th>1</th>\n",
              "      <td>VIOLATION OF PROBATION OR COND DISCHG</td>\n",
              "      <td>Probation</td>\n",
              "    </tr>\n",
              "    <tr>\n",
              "      <th>2</th>\n",
              "      <td>CRIMINAL ATTEMPT</td>\n",
              "      <td>Attempt</td>\n",
              "    </tr>\n",
              "    <tr>\n",
              "      <th>3</th>\n",
              "      <td>CRIM VIOL OF PROTECTIVE ORDER         DF</td>\n",
              "      <td>Order</td>\n",
              "    </tr>\n",
              "    <tr>\n",
              "      <th>4</th>\n",
              "      <td>CRIM VIOL ST CRIM RESTR ORDER         DF</td>\n",
              "      <td>Order</td>\n",
              "    </tr>\n",
              "  </tbody>\n",
              "</table>\n",
              "</div>"
            ],
            "text/plain": [
              "                               Offense_Type   Category\n",
              "0  CRIMINAL POSS OF PISTOL/REVOLVER      DF    Weapons\n",
              "1     VIOLATION OF PROBATION OR COND DISCHG  Probation\n",
              "2                          CRIMINAL ATTEMPT    Attempt\n",
              "3  CRIM VIOL OF PROTECTIVE ORDER         DF      Order\n",
              "4  CRIM VIOL ST CRIM RESTR ORDER         DF      Order"
            ]
          },
          "metadata": {
            "tags": []
          },
          "execution_count": 26
        }
      ]
    },
    {
      "cell_type": "code",
      "metadata": {
        "colab": {
          "base_uri": "https://localhost:8080/"
        },
        "id": "BHKiWXzV3gju",
        "outputId": "ebc1e711-7937-4693-a725-9f530c2b96dd"
      },
      "source": [
        "# Sum of each Type of Category\n",
        "df_2['Category'].value_counts()\n"
      ],
      "execution_count": 27,
      "outputs": [
        {
          "output_type": "execute_result",
          "data": {
            "text/plain": [
              "Person       121\n",
              "Property      55\n",
              "Order         34\n",
              "Weapons       23\n",
              "Drugs         18\n",
              "Probation      6\n",
              "Juvenile       2\n",
              "Attempt        2\n",
              "Name: Category, dtype: int64"
            ]
          },
          "metadata": {
            "tags": []
          },
          "execution_count": 27
        }
      ]
    },
    {
      "cell_type": "code",
      "metadata": {
        "id": "PR2CCDqCouzd"
      },
      "source": [
        "#inner join in python pandas\n",
        "\n",
        "#join_df = pd.merge(offense_df, df_2, on='Offense_Type', how='inner')\n",
        "#join_df"
      ],
      "execution_count": null,
      "outputs": []
    },
    {
      "cell_type": "code",
      "metadata": {
        "id": "iBrswz-Lx9B1"
      },
      "source": [
        "#join_df.info()"
      ],
      "execution_count": null,
      "outputs": []
    },
    {
      "cell_type": "code",
      "metadata": {
        "id": "yQqCN7dNxhNj"
      },
      "source": [
        "#df_2['Offense_Total'] = df_2.Offense_Type.value_counts()\n",
        "#df_2.head()"
      ],
      "execution_count": null,
      "outputs": []
    },
    {
      "cell_type": "code",
      "metadata": {
        "colab": {
          "base_uri": "https://localhost:8080/"
        },
        "id": "e4lnTQy4WxO-",
        "outputId": "712cb40e-b3f2-4d41-a1e3-20a605d1b3ef"
      },
      "source": [
        "# Sum of each Type of Offense\n",
        "df_offense = df_set['OFFENSE'].value_counts()\n",
        "df_offense.head(50)"
      ],
      "execution_count": 28,
      "outputs": [
        {
          "output_type": "execute_result",
          "data": {
            "text/plain": [
              "VIOLATION OF PROBATION OR COND DISCHG       131641\n",
              "CRIM VIOL OF PROTECTIVE ORDER         DF     46904\n",
              "ROBBERY, FIRST DEGREE                 BF     43225\n",
              "INJURY OR RISK OF INJURY TO MINOR      F     43146\n",
              "ASSAULT, FIRST DEGREE                 BF     38445\n",
              "BURGLARY, THIRD DEGREE                DF     36977\n",
              "SALE OF NARC/AMPHET BY NON-DEPENDENT   F     29849\n",
              "MURDER                                AF     27436\n",
              "SEXUAL ASSAULT, FIRST DEGREE           F     25187\n",
              "FAILURE TO APPEAR, FIRST DEGREE       DF     24034\n",
              "ASSAULT ON POLICE OR FIRE OFFICER     CF     21727\n",
              "HOME INVASION                         AF     21405\n",
              "ASSAULT, THIRD DEGREE                 AM     21274\n",
              "CRIMINAL ATTEMPT                             20354\n",
              "FAILURE TO APPEAR, SECOND DEGREE      AM     20144\n",
              "INTERFERING WITH AN OFFICER           AM     19566\n",
              "ASSAULT, SECOND DEGREE                DF     19485\n",
              "POSSESSION OF NARCOTICS                      18631\n",
              "CRIMINAL POSS OF PISTOL/REVOLVER      DF     17491\n",
              "CRIMINAL POSSESSION OF A PISTOL       DF     16990\n",
              "LARCENY, THIRD DEGREE                 DF     16917\n",
              "LARCENY, FIRST DEGREE                 BF     14529\n",
              "BURGLARY, FIRST DEGREE                BF     13678\n",
              "LARCENY, SECOND DEGREE                CF     12659\n",
              "CONSPIRACY                                   12611\n",
              "THREATENING                           AM     11896\n",
              "ROBBERY, SECOND DEGREE                CF     11664\n",
              "STRANGULATION 2ND DEGREE              DF     11053\n",
              "SALE OF HALLUCIGEN/NARCOTIC SUBSTANCE  F      9997\n",
              "STEALING A FIREARM                    DF      9526\n",
              "BURGLARY, SECOND DEGREE               CF      9116\n",
              "LARCENY, SIXTH DEGREE                 CM      9071\n",
              "SEXUAL ASSAULT, SECOND DEGREE          F      8785\n",
              "FELONY MURDER                         AF      8622\n",
              "ROBBERY, THIRD DEGREE                 DF      8169\n",
              "YOUTHFUL OFFENDER                             7854\n",
              "SALE OF HEROIN, COC BY NON-DEPENDENT          7115\n",
              "SALE OF CONTROLLED SUBSTANCE           F      6742\n",
              "ARREST WITHOUT WARRANT                        6478\n",
              "CRIMINAL TRESPASS, FIRST DEGREE       AM      6304\n",
              "DRUG PARAPHERNALIA IN DRUG FACTORY     F      6243\n",
              "CARRYING WEAPONS WITHOUT A PERMIT      F      5712\n",
              "OPERATE UNDER INFLU OF LIQ OR DRUGS           5673\n",
              "BREACH OF PEACE                       BM      5241\n",
              "CRIM VIOL RES ORDER                   AM      5220\n",
              "CRIM VIOL ST CRIM RESTR ORDER         DF      5211\n",
              "SEXUAL ASSAULT 1ST DEGREE-AGGRVTD      F      5041\n",
              "KIDNAPPING, FIRST DEGREE              AF      4730\n",
              "CARRYING WEAPON IN A MOTOR VEHICLE     F      4730\n",
              "CARRYING OR SALE OF DANGEROUS WEAPON          4711\n",
              "Name: OFFENSE, dtype: int64"
            ]
          },
          "metadata": {
            "tags": []
          },
          "execution_count": 28
        }
      ]
    },
    {
      "cell_type": "code",
      "metadata": {
        "colab": {
          "base_uri": "https://localhost:8080/"
        },
        "id": "Im2RRkGkbowa",
        "outputId": "219b5ac3-43ce-465a-e263-022851cac04b"
      },
      "source": [
        "# Overall Median for Bond Amount\n",
        "df_set.median()"
      ],
      "execution_count": 29,
      "outputs": [
        {
          "output_type": "execute_result",
          "data": {
            "text/plain": [
              "AGE               32.0\n",
              "BOND AMOUNT    77500.0\n",
              "dtype: float64"
            ]
          },
          "metadata": {
            "tags": []
          },
          "execution_count": 29
        }
      ]
    },
    {
      "cell_type": "code",
      "metadata": {
        "colab": {
          "base_uri": "https://localhost:8080/"
        },
        "id": "5nHbDGRbyKR3",
        "outputId": "480da886-5caa-4a81-bb78-a18cce5f5234"
      },
      "source": [
        "# Group by Offense then Sum of each race\n",
        "df_race = df_set['RACE'].value_counts() \n",
        "df_race.head()"
      ],
      "execution_count": 30,
      "outputs": [
        {
          "output_type": "execute_result",
          "data": {
            "text/plain": [
              "BLACK       413439\n",
              "WHITE       359678\n",
              "HISPANIC    267959\n",
              "ASIAN         5078\n",
              "AMER IND      2421\n",
              "Name: RACE, dtype: int64"
            ]
          },
          "metadata": {
            "tags": []
          },
          "execution_count": 30
        }
      ]
    },
    {
      "cell_type": "code",
      "metadata": {
        "colab": {
          "base_uri": "https://localhost:8080/",
          "height": 204
        },
        "id": "iSGcOuwqZ0x9",
        "outputId": "e0efb148-70d4-4f05-f771-0048b42f75a4"
      },
      "source": [
        "# Sum of bail amount by race\n",
        "df_racebail = df_set.groupby(['RACE'], as_index=False).agg({'BOND AMOUNT': sum})\n",
        "df_racebail.head()"
      ],
      "execution_count": 31,
      "outputs": [
        {
          "output_type": "execute_result",
          "data": {
            "text/html": [
              "<div>\n",
              "<style scoped>\n",
              "    .dataframe tbody tr th:only-of-type {\n",
              "        vertical-align: middle;\n",
              "    }\n",
              "\n",
              "    .dataframe tbody tr th {\n",
              "        vertical-align: top;\n",
              "    }\n",
              "\n",
              "    .dataframe thead th {\n",
              "        text-align: right;\n",
              "    }\n",
              "</style>\n",
              "<table border=\"1\" class=\"dataframe\">\n",
              "  <thead>\n",
              "    <tr style=\"text-align: right;\">\n",
              "      <th></th>\n",
              "      <th>RACE</th>\n",
              "      <th>BOND AMOUNT</th>\n",
              "    </tr>\n",
              "  </thead>\n",
              "  <tbody>\n",
              "    <tr>\n",
              "      <th>0</th>\n",
              "      <td>AMER IND</td>\n",
              "      <td>231344800</td>\n",
              "    </tr>\n",
              "    <tr>\n",
              "      <th>1</th>\n",
              "      <td>ASIAN</td>\n",
              "      <td>762682728</td>\n",
              "    </tr>\n",
              "    <tr>\n",
              "      <th>2</th>\n",
              "      <td>BLACK</td>\n",
              "      <td>103538148874</td>\n",
              "    </tr>\n",
              "    <tr>\n",
              "      <th>3</th>\n",
              "      <td>HISPANIC</td>\n",
              "      <td>52074854728</td>\n",
              "    </tr>\n",
              "    <tr>\n",
              "      <th>4</th>\n",
              "      <td>WHITE</td>\n",
              "      <td>47624838189</td>\n",
              "    </tr>\n",
              "  </tbody>\n",
              "</table>\n",
              "</div>"
            ],
            "text/plain": [
              "       RACE   BOND AMOUNT\n",
              "0  AMER IND     231344800\n",
              "1     ASIAN     762682728\n",
              "2     BLACK  103538148874\n",
              "3  HISPANIC   52074854728\n",
              "4     WHITE   47624838189"
            ]
          },
          "metadata": {
            "tags": []
          },
          "execution_count": 31
        }
      ]
    },
    {
      "cell_type": "code",
      "metadata": {
        "colab": {
          "base_uri": "https://localhost:8080/",
          "height": 204
        },
        "id": "NfmlcX_rbL0p",
        "outputId": "0626eeec-3c00-487e-e13d-65c1cb3b8d24"
      },
      "source": [
        "# mean of bail amount and age by race\n",
        "df_racebailmean = df_set.groupby(['RACE'], as_index=False).mean()\n",
        "df_racebailmean.head()"
      ],
      "execution_count": 32,
      "outputs": [
        {
          "output_type": "execute_result",
          "data": {
            "text/html": [
              "<div>\n",
              "<style scoped>\n",
              "    .dataframe tbody tr th:only-of-type {\n",
              "        vertical-align: middle;\n",
              "    }\n",
              "\n",
              "    .dataframe tbody tr th {\n",
              "        vertical-align: top;\n",
              "    }\n",
              "\n",
              "    .dataframe thead th {\n",
              "        text-align: right;\n",
              "    }\n",
              "</style>\n",
              "<table border=\"1\" class=\"dataframe\">\n",
              "  <thead>\n",
              "    <tr style=\"text-align: right;\">\n",
              "      <th></th>\n",
              "      <th>RACE</th>\n",
              "      <th>AGE</th>\n",
              "      <th>BOND AMOUNT</th>\n",
              "    </tr>\n",
              "  </thead>\n",
              "  <tbody>\n",
              "    <tr>\n",
              "      <th>0</th>\n",
              "      <td>AMER IND</td>\n",
              "      <td>32.332920</td>\n",
              "      <td>95557.538207</td>\n",
              "    </tr>\n",
              "    <tr>\n",
              "      <th>1</th>\n",
              "      <td>ASIAN</td>\n",
              "      <td>34.881252</td>\n",
              "      <td>150193.526585</td>\n",
              "    </tr>\n",
              "    <tr>\n",
              "      <th>2</th>\n",
              "      <td>BLACK</td>\n",
              "      <td>32.186185</td>\n",
              "      <td>250431.499868</td>\n",
              "    </tr>\n",
              "    <tr>\n",
              "      <th>3</th>\n",
              "      <td>HISPANIC</td>\n",
              "      <td>32.875059</td>\n",
              "      <td>194338.890382</td>\n",
              "    </tr>\n",
              "    <tr>\n",
              "      <th>4</th>\n",
              "      <td>WHITE</td>\n",
              "      <td>36.479234</td>\n",
              "      <td>132409.650268</td>\n",
              "    </tr>\n",
              "  </tbody>\n",
              "</table>\n",
              "</div>"
            ],
            "text/plain": [
              "       RACE        AGE    BOND AMOUNT\n",
              "0  AMER IND  32.332920   95557.538207\n",
              "1     ASIAN  34.881252  150193.526585\n",
              "2     BLACK  32.186185  250431.499868\n",
              "3  HISPANIC  32.875059  194338.890382\n",
              "4     WHITE  36.479234  132409.650268"
            ]
          },
          "metadata": {
            "tags": []
          },
          "execution_count": 32
        }
      ]
    },
    {
      "cell_type": "code",
      "metadata": {
        "colab": {
          "base_uri": "https://localhost:8080/",
          "height": 204
        },
        "id": "lRhuTAR2b5-K",
        "outputId": "26cd88cd-cfe0-467f-98c0-bc82f873fa89"
      },
      "source": [
        "# median of bail amount and age by race\n",
        "df_racebailmed = df_set.groupby(['RACE'], as_index=False).median()\n",
        "df_racebailmed.head()"
      ],
      "execution_count": 33,
      "outputs": [
        {
          "output_type": "execute_result",
          "data": {
            "text/html": [
              "<div>\n",
              "<style scoped>\n",
              "    .dataframe tbody tr th:only-of-type {\n",
              "        vertical-align: middle;\n",
              "    }\n",
              "\n",
              "    .dataframe tbody tr th {\n",
              "        vertical-align: top;\n",
              "    }\n",
              "\n",
              "    .dataframe thead th {\n",
              "        text-align: right;\n",
              "    }\n",
              "</style>\n",
              "<table border=\"1\" class=\"dataframe\">\n",
              "  <thead>\n",
              "    <tr style=\"text-align: right;\">\n",
              "      <th></th>\n",
              "      <th>RACE</th>\n",
              "      <th>AGE</th>\n",
              "      <th>BOND AMOUNT</th>\n",
              "    </tr>\n",
              "  </thead>\n",
              "  <tbody>\n",
              "    <tr>\n",
              "      <th>0</th>\n",
              "      <td>AMER IND</td>\n",
              "      <td>32</td>\n",
              "      <td>50500</td>\n",
              "    </tr>\n",
              "    <tr>\n",
              "      <th>1</th>\n",
              "      <td>ASIAN</td>\n",
              "      <td>32</td>\n",
              "      <td>50060</td>\n",
              "    </tr>\n",
              "    <tr>\n",
              "      <th>2</th>\n",
              "      <td>BLACK</td>\n",
              "      <td>29</td>\n",
              "      <td>100000</td>\n",
              "    </tr>\n",
              "    <tr>\n",
              "      <th>3</th>\n",
              "      <td>HISPANIC</td>\n",
              "      <td>31</td>\n",
              "      <td>95000</td>\n",
              "    </tr>\n",
              "    <tr>\n",
              "      <th>4</th>\n",
              "      <td>WHITE</td>\n",
              "      <td>34</td>\n",
              "      <td>50050</td>\n",
              "    </tr>\n",
              "  </tbody>\n",
              "</table>\n",
              "</div>"
            ],
            "text/plain": [
              "       RACE  AGE  BOND AMOUNT\n",
              "0  AMER IND   32        50500\n",
              "1     ASIAN   32        50060\n",
              "2     BLACK   29       100000\n",
              "3  HISPANIC   31        95000\n",
              "4     WHITE   34        50050"
            ]
          },
          "metadata": {
            "tags": []
          },
          "execution_count": 33
        }
      ]
    },
    {
      "cell_type": "code",
      "metadata": {
        "colab": {
          "base_uri": "https://localhost:8080/",
          "height": 411
        },
        "id": "vPRVd1JY05GA",
        "outputId": "6bf77d13-376e-4cd6-e7d2-445de3cb8199"
      },
      "source": [
        "#Add new column with offense category\n",
        "category = []\n",
        "for i in df_set[\"OFFENSE\"]:\n",
        "    if i == [\"CRIMINAL POSS OF PISTOL/REVOLVER DF\"]:\n",
        "        category.append(\"Weapons\")\n",
        "    elif i ==[\"VIOLATION OF PROBATION OR COND DISCHG\"]:\n",
        "        category.append(\"Probation\")\n",
        "    elif i == [\"CRIMINAL ATTEMPT\"]:\n",
        "        category.append(\"Attempt\")\n",
        "    elif i == [\"CRIM VIOL OF PROTECTIVE ORDER         DF\"]:\n",
        "        category.append(\"Order\")\n",
        "    elif i == [\"SALE OF NARC/AMPHET BY NON-DEPENDENT   F\"]:\n",
        "        category.append(\"Drugs\")\n",
        "    elif i == [\"LARCENY, SECOND DEGREE                CF\"]:\n",
        "        category.append(\"Property\")\n",
        "    elif i == [\"YOUTHFUL OFFENDER\"]:\n",
        "        category.append(\"Juvenile\")\n",
        "    else:\n",
        "        category.append(\"Person\")\n",
        "       \n",
        "df_set[\"Category\"] = category   \n",
        "df_set.head()"
      ],
      "execution_count": null,
      "outputs": [
        {
          "output_type": "execute_result",
          "data": {
            "text/html": [
              "<div>\n",
              "<style scoped>\n",
              "    .dataframe tbody tr th:only-of-type {\n",
              "        vertical-align: middle;\n",
              "    }\n",
              "\n",
              "    .dataframe tbody tr th {\n",
              "        vertical-align: top;\n",
              "    }\n",
              "\n",
              "    .dataframe thead th {\n",
              "        text-align: right;\n",
              "    }\n",
              "</style>\n",
              "<table border=\"1\" class=\"dataframe\">\n",
              "  <thead>\n",
              "    <tr style=\"text-align: right;\">\n",
              "      <th></th>\n",
              "      <th>DOWNLOAD DATE</th>\n",
              "      <th>IDENTIFIER</th>\n",
              "      <th>LATEST ADMISSION DATE</th>\n",
              "      <th>RACE</th>\n",
              "      <th>GENDER</th>\n",
              "      <th>AGE</th>\n",
              "      <th>BOND AMOUNT</th>\n",
              "      <th>OFFENSE</th>\n",
              "      <th>FACILITY</th>\n",
              "      <th>DETAINER</th>\n",
              "      <th>Category</th>\n",
              "    </tr>\n",
              "  </thead>\n",
              "  <tbody>\n",
              "    <tr>\n",
              "      <th>0</th>\n",
              "      <td>5/15/20</td>\n",
              "      <td>ZZHCZBZZ</td>\n",
              "      <td>8/16/18</td>\n",
              "      <td>BLACK</td>\n",
              "      <td>M</td>\n",
              "      <td>27</td>\n",
              "      <td>150000</td>\n",
              "      <td>CRIMINAL POSS OF PISTOL/REVOLVER      DF</td>\n",
              "      <td>NEW HAVEN CC</td>\n",
              "      <td>NONE</td>\n",
              "      <td>Person</td>\n",
              "    </tr>\n",
              "    <tr>\n",
              "      <th>1</th>\n",
              "      <td>5/15/20</td>\n",
              "      <td>ZZHZZRLR</td>\n",
              "      <td>3/28/19</td>\n",
              "      <td>HISPANIC</td>\n",
              "      <td>M</td>\n",
              "      <td>41</td>\n",
              "      <td>30100</td>\n",
              "      <td>VIOLATION OF PROBATION OR COND DISCHG</td>\n",
              "      <td>CORRIGAN CI</td>\n",
              "      <td>NONE</td>\n",
              "      <td>Person</td>\n",
              "    </tr>\n",
              "    <tr>\n",
              "      <th>2</th>\n",
              "      <td>5/15/20</td>\n",
              "      <td>ZZSRJBEE</td>\n",
              "      <td>4/3/20</td>\n",
              "      <td>HISPANIC</td>\n",
              "      <td>M</td>\n",
              "      <td>21</td>\n",
              "      <td>150000</td>\n",
              "      <td>CRIMINAL ATTEMPT</td>\n",
              "      <td>CORRIGAN CI</td>\n",
              "      <td>NONE</td>\n",
              "      <td>Person</td>\n",
              "    </tr>\n",
              "    <tr>\n",
              "      <th>3</th>\n",
              "      <td>5/15/20</td>\n",
              "      <td>ZZHBJLRZ</td>\n",
              "      <td>1/15/20</td>\n",
              "      <td>WHITE</td>\n",
              "      <td>M</td>\n",
              "      <td>36</td>\n",
              "      <td>50500</td>\n",
              "      <td>CRIM VIOL OF PROTECTIVE ORDER         DF</td>\n",
              "      <td>BRIDGEPORT CC</td>\n",
              "      <td>NONE</td>\n",
              "      <td>Person</td>\n",
              "    </tr>\n",
              "    <tr>\n",
              "      <th>4</th>\n",
              "      <td>5/15/20</td>\n",
              "      <td>ZZSRRCHH</td>\n",
              "      <td>12/26/18</td>\n",
              "      <td>HISPANIC</td>\n",
              "      <td>M</td>\n",
              "      <td>29</td>\n",
              "      <td>100000</td>\n",
              "      <td>CRIMINAL ATTEMPT</td>\n",
              "      <td>HARTFORD CC</td>\n",
              "      <td>NONE</td>\n",
              "      <td>Person</td>\n",
              "    </tr>\n",
              "  </tbody>\n",
              "</table>\n",
              "</div>"
            ],
            "text/plain": [
              "  DOWNLOAD DATE  ... Category\n",
              "0       5/15/20  ...   Person\n",
              "1       5/15/20  ...   Person\n",
              "2       5/15/20  ...   Person\n",
              "3       5/15/20  ...   Person\n",
              "4       5/15/20  ...   Person\n",
              "\n",
              "[5 rows x 11 columns]"
            ]
          },
          "metadata": {
            "tags": []
          },
          "execution_count": 79
        }
      ]
    },
    {
      "cell_type": "code",
      "metadata": {
        "colab": {
          "base_uri": "https://localhost:8080/",
          "height": 411
        },
        "id": "zWxy4DuV7EZV",
        "outputId": "ce1870ae-94ea-4160-b00b-fb158be596ac"
      },
      "source": [
        "#Add new column with offense category\n",
        "category = []\n",
        "for i in df_set[\"OFFENSE\"]:\n",
        "    if \"PISTOL/REVOLVER\" in df_set.OFFENSE:\n",
        "        category.append(\"Weapons\")\n",
        "    elif \"VIOLATION OF PROBATION OR COND DISCHG\" in df_set.OFFENSE:\n",
        "        category.append(\"Probation\")\n",
        "    elif \"CRIMINAL ATTEMPT\" in df_set.OFFENSE:\n",
        "        category.append(\"Attempt\")\n",
        "    elif \"CRIM VIOL OF PROTECTIVE ORDER         DF\" in df_set.OFFENSE:\n",
        "        category.append(\"Order\")\n",
        "    elif \"SALE OF NARC/AMPHET BY NON-DEPENDENT   F\" in df_set.OFFENSE:\n",
        "        category.append(\"Drugs\")\n",
        "    elif \"LARCENY, SECOND DEGREE                CF\" in df_set.OFFENSE:\n",
        "        category.append(\"Property\")\n",
        "    elif \"YOUTHFUL OFFENDER\" in df_set.OFFENSE:\n",
        "        category.append(\"Juvenile\")\n",
        "    else:\n",
        "        category.append(\"Person\")\n",
        "       \n",
        "df_set[\"Category\"] = category   \n",
        "df_set.head()"
      ],
      "execution_count": null,
      "outputs": [
        {
          "output_type": "execute_result",
          "data": {
            "text/html": [
              "<div>\n",
              "<style scoped>\n",
              "    .dataframe tbody tr th:only-of-type {\n",
              "        vertical-align: middle;\n",
              "    }\n",
              "\n",
              "    .dataframe tbody tr th {\n",
              "        vertical-align: top;\n",
              "    }\n",
              "\n",
              "    .dataframe thead th {\n",
              "        text-align: right;\n",
              "    }\n",
              "</style>\n",
              "<table border=\"1\" class=\"dataframe\">\n",
              "  <thead>\n",
              "    <tr style=\"text-align: right;\">\n",
              "      <th></th>\n",
              "      <th>DOWNLOAD DATE</th>\n",
              "      <th>IDENTIFIER</th>\n",
              "      <th>LATEST ADMISSION DATE</th>\n",
              "      <th>RACE</th>\n",
              "      <th>GENDER</th>\n",
              "      <th>AGE</th>\n",
              "      <th>BOND AMOUNT</th>\n",
              "      <th>OFFENSE</th>\n",
              "      <th>FACILITY</th>\n",
              "      <th>DETAINER</th>\n",
              "      <th>Category</th>\n",
              "    </tr>\n",
              "  </thead>\n",
              "  <tbody>\n",
              "    <tr>\n",
              "      <th>0</th>\n",
              "      <td>5/15/20</td>\n",
              "      <td>ZZHCZBZZ</td>\n",
              "      <td>8/16/18</td>\n",
              "      <td>BLACK</td>\n",
              "      <td>M</td>\n",
              "      <td>27</td>\n",
              "      <td>150000</td>\n",
              "      <td>CRIMINAL POSS OF PISTOL/REVOLVER      DF</td>\n",
              "      <td>NEW HAVEN CC</td>\n",
              "      <td>NONE</td>\n",
              "      <td>Person</td>\n",
              "    </tr>\n",
              "    <tr>\n",
              "      <th>1</th>\n",
              "      <td>5/15/20</td>\n",
              "      <td>ZZHZZRLR</td>\n",
              "      <td>3/28/19</td>\n",
              "      <td>HISPANIC</td>\n",
              "      <td>M</td>\n",
              "      <td>41</td>\n",
              "      <td>30100</td>\n",
              "      <td>VIOLATION OF PROBATION OR COND DISCHG</td>\n",
              "      <td>CORRIGAN CI</td>\n",
              "      <td>NONE</td>\n",
              "      <td>Person</td>\n",
              "    </tr>\n",
              "    <tr>\n",
              "      <th>2</th>\n",
              "      <td>5/15/20</td>\n",
              "      <td>ZZSRJBEE</td>\n",
              "      <td>4/3/20</td>\n",
              "      <td>HISPANIC</td>\n",
              "      <td>M</td>\n",
              "      <td>21</td>\n",
              "      <td>150000</td>\n",
              "      <td>CRIMINAL ATTEMPT</td>\n",
              "      <td>CORRIGAN CI</td>\n",
              "      <td>NONE</td>\n",
              "      <td>Person</td>\n",
              "    </tr>\n",
              "    <tr>\n",
              "      <th>3</th>\n",
              "      <td>5/15/20</td>\n",
              "      <td>ZZHBJLRZ</td>\n",
              "      <td>1/15/20</td>\n",
              "      <td>WHITE</td>\n",
              "      <td>M</td>\n",
              "      <td>36</td>\n",
              "      <td>50500</td>\n",
              "      <td>CRIM VIOL OF PROTECTIVE ORDER         DF</td>\n",
              "      <td>BRIDGEPORT CC</td>\n",
              "      <td>NONE</td>\n",
              "      <td>Person</td>\n",
              "    </tr>\n",
              "    <tr>\n",
              "      <th>4</th>\n",
              "      <td>5/15/20</td>\n",
              "      <td>ZZSRRCHH</td>\n",
              "      <td>12/26/18</td>\n",
              "      <td>HISPANIC</td>\n",
              "      <td>M</td>\n",
              "      <td>29</td>\n",
              "      <td>100000</td>\n",
              "      <td>CRIMINAL ATTEMPT</td>\n",
              "      <td>HARTFORD CC</td>\n",
              "      <td>NONE</td>\n",
              "      <td>Person</td>\n",
              "    </tr>\n",
              "  </tbody>\n",
              "</table>\n",
              "</div>"
            ],
            "text/plain": [
              "  DOWNLOAD DATE  ... Category\n",
              "0       5/15/20  ...   Person\n",
              "1       5/15/20  ...   Person\n",
              "2       5/15/20  ...   Person\n",
              "3       5/15/20  ...   Person\n",
              "4       5/15/20  ...   Person\n",
              "\n",
              "[5 rows x 11 columns]"
            ]
          },
          "metadata": {
            "tags": []
          },
          "execution_count": 82
        }
      ]
    },
    {
      "cell_type": "code",
      "metadata": {
        "id": "bRNlIWOQ9OhQ"
      },
      "source": [
        "#Add new column with offense category\n",
        "category = []\n",
        "for i in df_set[\"OFFENSE\"]:\n",
        "    if \"PISTOL/REVOLVER\" in df_set.OFFENSE:\n",
        "        category.append(\"Weapons\")\n",
        "    elif \"VIOLATION OF PROBATION OR COND DISCHG\" in df_set.OFFENSE:\n",
        "        category.append(\"Probation\")\n",
        "    elif \"CRIMINAL ATTEMPT\" in df_set.OFFENSE:\n",
        "        category.append(\"Attempt\")\n",
        "    elif \"CRIM VIOL OF PROTECTIVE ORDER         DF\" in df_set.OFFENSE:\n",
        "        category.append(\"Order\")\n",
        "    elif \"SALE OF NARC/AMPHET BY NON-DEPENDENT   F\" in df_set.OFFENSE:\n",
        "        category.append(\"Drugs\")\n",
        "    elif \"LARCENY, SECOND DEGREE                CF\" in df_set.OFFENSE:\n",
        "        category.append(\"Property\")\n",
        "    elif \"YOUTHFUL OFFENDER\" in df_set.OFFENSE:\n",
        "        category.append(\"Juvenile\")\n",
        "    else:\n",
        "        category.append(\"Person\")\n",
        "       \n",
        "df_set[\"Category\"] = category   \n",
        "df_set.head()"
      ],
      "execution_count": null,
      "outputs": []
    },
    {
      "cell_type": "code",
      "metadata": {
        "colab": {
          "base_uri": "https://localhost:8080/",
          "height": 411
        },
        "id": "lInM6pVL-t5O",
        "outputId": "dd67c569-17b7-4a40-ccb9-9bc7630ca6f1"
      },
      "source": [
        "if 'PISTOL/REVOLVER' in df_set.OFFENSE:\n",
        "        df_set.Category = [\"Weapons\"]\n",
        "\n",
        "df_set.head()"
      ],
      "execution_count": null,
      "outputs": [
        {
          "output_type": "execute_result",
          "data": {
            "text/html": [
              "<div>\n",
              "<style scoped>\n",
              "    .dataframe tbody tr th:only-of-type {\n",
              "        vertical-align: middle;\n",
              "    }\n",
              "\n",
              "    .dataframe tbody tr th {\n",
              "        vertical-align: top;\n",
              "    }\n",
              "\n",
              "    .dataframe thead th {\n",
              "        text-align: right;\n",
              "    }\n",
              "</style>\n",
              "<table border=\"1\" class=\"dataframe\">\n",
              "  <thead>\n",
              "    <tr style=\"text-align: right;\">\n",
              "      <th></th>\n",
              "      <th>DOWNLOAD DATE</th>\n",
              "      <th>IDENTIFIER</th>\n",
              "      <th>LATEST ADMISSION DATE</th>\n",
              "      <th>RACE</th>\n",
              "      <th>GENDER</th>\n",
              "      <th>AGE</th>\n",
              "      <th>BOND AMOUNT</th>\n",
              "      <th>OFFENSE</th>\n",
              "      <th>FACILITY</th>\n",
              "      <th>DETAINER</th>\n",
              "      <th>Category</th>\n",
              "    </tr>\n",
              "  </thead>\n",
              "  <tbody>\n",
              "    <tr>\n",
              "      <th>0</th>\n",
              "      <td>5/15/20</td>\n",
              "      <td>ZZHCZBZZ</td>\n",
              "      <td>8/16/18</td>\n",
              "      <td>BLACK</td>\n",
              "      <td>M</td>\n",
              "      <td>27</td>\n",
              "      <td>150000</td>\n",
              "      <td>CRIMINAL POSS OF PISTOL/REVOLVER      DF</td>\n",
              "      <td>NEW HAVEN CC</td>\n",
              "      <td>NONE</td>\n",
              "      <td>Person</td>\n",
              "    </tr>\n",
              "    <tr>\n",
              "      <th>1</th>\n",
              "      <td>5/15/20</td>\n",
              "      <td>ZZHZZRLR</td>\n",
              "      <td>3/28/19</td>\n",
              "      <td>HISPANIC</td>\n",
              "      <td>M</td>\n",
              "      <td>41</td>\n",
              "      <td>30100</td>\n",
              "      <td>VIOLATION OF PROBATION OR COND DISCHG</td>\n",
              "      <td>CORRIGAN CI</td>\n",
              "      <td>NONE</td>\n",
              "      <td>Person</td>\n",
              "    </tr>\n",
              "    <tr>\n",
              "      <th>2</th>\n",
              "      <td>5/15/20</td>\n",
              "      <td>ZZSRJBEE</td>\n",
              "      <td>4/3/20</td>\n",
              "      <td>HISPANIC</td>\n",
              "      <td>M</td>\n",
              "      <td>21</td>\n",
              "      <td>150000</td>\n",
              "      <td>CRIMINAL ATTEMPT</td>\n",
              "      <td>CORRIGAN CI</td>\n",
              "      <td>NONE</td>\n",
              "      <td>Person</td>\n",
              "    </tr>\n",
              "    <tr>\n",
              "      <th>3</th>\n",
              "      <td>5/15/20</td>\n",
              "      <td>ZZHBJLRZ</td>\n",
              "      <td>1/15/20</td>\n",
              "      <td>WHITE</td>\n",
              "      <td>M</td>\n",
              "      <td>36</td>\n",
              "      <td>50500</td>\n",
              "      <td>CRIM VIOL OF PROTECTIVE ORDER         DF</td>\n",
              "      <td>BRIDGEPORT CC</td>\n",
              "      <td>NONE</td>\n",
              "      <td>Person</td>\n",
              "    </tr>\n",
              "    <tr>\n",
              "      <th>4</th>\n",
              "      <td>5/15/20</td>\n",
              "      <td>ZZSRRCHH</td>\n",
              "      <td>12/26/18</td>\n",
              "      <td>HISPANIC</td>\n",
              "      <td>M</td>\n",
              "      <td>29</td>\n",
              "      <td>100000</td>\n",
              "      <td>CRIMINAL ATTEMPT</td>\n",
              "      <td>HARTFORD CC</td>\n",
              "      <td>NONE</td>\n",
              "      <td>Person</td>\n",
              "    </tr>\n",
              "  </tbody>\n",
              "</table>\n",
              "</div>"
            ],
            "text/plain": [
              "  DOWNLOAD DATE  ... Category\n",
              "0       5/15/20  ...   Person\n",
              "1       5/15/20  ...   Person\n",
              "2       5/15/20  ...   Person\n",
              "3       5/15/20  ...   Person\n",
              "4       5/15/20  ...   Person\n",
              "\n",
              "[5 rows x 11 columns]"
            ]
          },
          "metadata": {
            "tags": []
          },
          "execution_count": 92
        }
      ]
    },
    {
      "cell_type": "code",
      "metadata": {
        "colab": {
          "base_uri": "https://localhost:8080/",
          "height": 411
        },
        "id": "ETAb4WTW_r_9",
        "outputId": "0620030e-36c9-41df-ee34-eef89aa92885"
      },
      "source": [
        "\n",
        "if 'PISTOL/REVOLVER' in df_set.OFFENSE:\n",
        "\t\tdf_set[\"Category\"] == \"Weapons\"\n",
        "df_set.head()"
      ],
      "execution_count": null,
      "outputs": [
        {
          "output_type": "execute_result",
          "data": {
            "text/html": [
              "<div>\n",
              "<style scoped>\n",
              "    .dataframe tbody tr th:only-of-type {\n",
              "        vertical-align: middle;\n",
              "    }\n",
              "\n",
              "    .dataframe tbody tr th {\n",
              "        vertical-align: top;\n",
              "    }\n",
              "\n",
              "    .dataframe thead th {\n",
              "        text-align: right;\n",
              "    }\n",
              "</style>\n",
              "<table border=\"1\" class=\"dataframe\">\n",
              "  <thead>\n",
              "    <tr style=\"text-align: right;\">\n",
              "      <th></th>\n",
              "      <th>DOWNLOAD DATE</th>\n",
              "      <th>IDENTIFIER</th>\n",
              "      <th>LATEST ADMISSION DATE</th>\n",
              "      <th>RACE</th>\n",
              "      <th>GENDER</th>\n",
              "      <th>AGE</th>\n",
              "      <th>BOND AMOUNT</th>\n",
              "      <th>OFFENSE</th>\n",
              "      <th>FACILITY</th>\n",
              "      <th>DETAINER</th>\n",
              "      <th>Category</th>\n",
              "    </tr>\n",
              "  </thead>\n",
              "  <tbody>\n",
              "    <tr>\n",
              "      <th>0</th>\n",
              "      <td>5/15/20</td>\n",
              "      <td>ZZHCZBZZ</td>\n",
              "      <td>8/16/18</td>\n",
              "      <td>BLACK</td>\n",
              "      <td>M</td>\n",
              "      <td>27</td>\n",
              "      <td>150000</td>\n",
              "      <td>CRIMINAL POSS OF PISTOL/REVOLVER      DF</td>\n",
              "      <td>NEW HAVEN CC</td>\n",
              "      <td>NONE</td>\n",
              "      <td>Person</td>\n",
              "    </tr>\n",
              "    <tr>\n",
              "      <th>1</th>\n",
              "      <td>5/15/20</td>\n",
              "      <td>ZZHZZRLR</td>\n",
              "      <td>3/28/19</td>\n",
              "      <td>HISPANIC</td>\n",
              "      <td>M</td>\n",
              "      <td>41</td>\n",
              "      <td>30100</td>\n",
              "      <td>VIOLATION OF PROBATION OR COND DISCHG</td>\n",
              "      <td>CORRIGAN CI</td>\n",
              "      <td>NONE</td>\n",
              "      <td>Person</td>\n",
              "    </tr>\n",
              "    <tr>\n",
              "      <th>2</th>\n",
              "      <td>5/15/20</td>\n",
              "      <td>ZZSRJBEE</td>\n",
              "      <td>4/3/20</td>\n",
              "      <td>HISPANIC</td>\n",
              "      <td>M</td>\n",
              "      <td>21</td>\n",
              "      <td>150000</td>\n",
              "      <td>CRIMINAL ATTEMPT</td>\n",
              "      <td>CORRIGAN CI</td>\n",
              "      <td>NONE</td>\n",
              "      <td>Person</td>\n",
              "    </tr>\n",
              "    <tr>\n",
              "      <th>3</th>\n",
              "      <td>5/15/20</td>\n",
              "      <td>ZZHBJLRZ</td>\n",
              "      <td>1/15/20</td>\n",
              "      <td>WHITE</td>\n",
              "      <td>M</td>\n",
              "      <td>36</td>\n",
              "      <td>50500</td>\n",
              "      <td>CRIM VIOL OF PROTECTIVE ORDER         DF</td>\n",
              "      <td>BRIDGEPORT CC</td>\n",
              "      <td>NONE</td>\n",
              "      <td>Person</td>\n",
              "    </tr>\n",
              "    <tr>\n",
              "      <th>4</th>\n",
              "      <td>5/15/20</td>\n",
              "      <td>ZZSRRCHH</td>\n",
              "      <td>12/26/18</td>\n",
              "      <td>HISPANIC</td>\n",
              "      <td>M</td>\n",
              "      <td>29</td>\n",
              "      <td>100000</td>\n",
              "      <td>CRIMINAL ATTEMPT</td>\n",
              "      <td>HARTFORD CC</td>\n",
              "      <td>NONE</td>\n",
              "      <td>Person</td>\n",
              "    </tr>\n",
              "  </tbody>\n",
              "</table>\n",
              "</div>"
            ],
            "text/plain": [
              "  DOWNLOAD DATE  ... Category\n",
              "0       5/15/20  ...   Person\n",
              "1       5/15/20  ...   Person\n",
              "2       5/15/20  ...   Person\n",
              "3       5/15/20  ...   Person\n",
              "4       5/15/20  ...   Person\n",
              "\n",
              "[5 rows x 11 columns]"
            ]
          },
          "metadata": {
            "tags": []
          },
          "execution_count": 102
        }
      ]
    },
    {
      "cell_type": "code",
      "metadata": {
        "colab": {
          "base_uri": "https://localhost:8080/"
        },
        "id": "5zqbOjdI5OzG",
        "outputId": "3cae8c15-61d6-4996-842e-dd5a4406b971"
      },
      "source": [
        "df_set['Category'].value_counts() "
      ],
      "execution_count": null,
      "outputs": [
        {
          "output_type": "execute_result",
          "data": {
            "text/plain": [
              "Person    1048575\n",
              "Name: Category, dtype: int64"
            ]
          },
          "metadata": {
            "tags": []
          },
          "execution_count": 75
        }
      ]
    },
    {
      "cell_type": "markdown",
      "metadata": {
        "id": "GH7F2do2ZKDY"
      },
      "source": [
        "**Data Visualization**"
      ]
    },
    {
      "cell_type": "code",
      "metadata": {
        "id": "nBipkr6-ZIz1"
      },
      "source": [
        "# Basic Plots with Matplotlib\n",
        "import matplotlib as mpl\n",
        "import matplotlib.pyplot as plt\n",
        "plt.style.use('classic')"
      ],
      "execution_count": null,
      "outputs": []
    },
    {
      "cell_type": "code",
      "metadata": {
        "id": "cWymH38JZFkO"
      },
      "source": [
        "# matplotlib plot\n",
        "import matplotlib.pyplot as plt\n",
        "df_year.plot(x = 'year', grid=True)\n",
        "plt.xlabel('year')\n",
        "plt.ylabel('Column name')"
      ],
      "execution_count": null,
      "outputs": []
    },
    {
      "cell_type": "code",
      "metadata": {
        "id": "q-jfM9s_Zp7W"
      },
      "source": [
        "# matplotlib barplot\n",
        "import matplotlib.pyplot as plt\n",
        "x = df_year['year']\n",
        "y = df_year['Column name']\n",
        "plt.bar(x, y)\n",
        "plt.xlabel('Year')\n",
        "plt.ylabel('Column name')\n",
        "plt.show()"
      ],
      "execution_count": null,
      "outputs": []
    },
    {
      "cell_type": "markdown",
      "metadata": {
        "id": "uJUVkwwNcCXo"
      },
      "source": [
        "**Statistics**"
      ]
    },
    {
      "cell_type": "code",
      "metadata": {
        "id": "hsk3G91PcFDy"
      },
      "source": [
        "# Multiple functions\n",
        "grouped['C'].agg([np.sum, np.mean, np.std])"
      ],
      "execution_count": null,
      "outputs": []
    },
    {
      "cell_type": "code",
      "metadata": {
        "id": "rJLbp6nRcNw6"
      },
      "source": [
        "df.groupby('A').aggregate('C').mean()"
      ],
      "execution_count": null,
      "outputs": []
    },
    {
      "cell_type": "code",
      "metadata": {
        "id": "TLac9VKbcQ2E"
      },
      "source": [
        "df.groupby('A').C.mean()"
      ],
      "execution_count": null,
      "outputs": []
    },
    {
      "cell_type": "code",
      "metadata": {
        "id": "xYv6xaHhcRM5"
      },
      "source": [
        "# Bootstrapping \n",
        "bootstrap = pd.DataFrame({'name_of_sampling_df': [pop.sample(100, replace = True).VARIABLE_NAME_HERE.mean() for i in range (1000)]})"
      ],
      "execution_count": null,
      "outputs": []
    }
  ]
}